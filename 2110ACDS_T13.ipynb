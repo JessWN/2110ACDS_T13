{
 "cells": [
  {
   "cell_type": "code",
   "execution_count": null,
   "metadata": {},
   "outputs": [],
   "source": [
    "#Libraries for Model Visualization\n",
    "from comet_ml import Experiment"
   ]
  },
  {
   "cell_type": "code",
   "execution_count": null,
   "metadata": {},
   "outputs": [],
   "source": [
    "experiment = Experiment(api_key=\"MHehhbanm9HbbvXptMjQ0hinn\",\n",
    "    project_name=\"tweet-sentiment-analysis\",\n",
    "    workspace=\"jessica-njuguna\")"
   ]
  },
  {
   "cell_type": "markdown",
   "metadata": {},
   "source": [
    "# Climate Change Analysis Belief 2022\n",
    "© Explore Data Science Academy"
   ]
  },
  {
   "cell_type": "markdown",
   "metadata": {},
   "source": [
    "_Prepared by:_\n",
    "- Jessica Njuguna\n",
    "- Stanley Agbo\n",
    "- Uchenna Unigwe\n",
    "- Hunadi Mawela\n",
    "- Teddy Waweru"
   ]
  },
  {
   "cell_type": "markdown",
   "metadata": {},
   "source": [
    "<a id=\"one\"></a>\n",
    "## 1. Introduction"
   ]
  },
  {
   "cell_type": "markdown",
   "metadata": {},
   "source": [
    "Living things are dependent on particular conditions to survive. Humans are not exempt from this. Having the right temperature, sufficient water, clean air, and enough food are among the basic requirements for survival. The majority of these requirements depend on the stability of climate change. Climate change refers to shifts in the weather and temperature patterns. Human activity and natural occurrences contribute to climate change.\n",
    "\n",
    "Since the 1800s, human cultures have been the main drivers of climate change. With increased deforestation, combustion of fossil fuels and increased livestock farming, the concentration of greenhouse gases has increased. These gases cause a greenhouse effect by trapping the sun's heat and escalating global warming.\n",
    "\n",
    "Warmer temperatures change weather patterns disrupting the natural conditions of the earth. These disruptions harm our environment, degrading the quality of the Earth's air and water. In a bid to cool the earth and reduce the rate of climate change, global organizations are campaigning for more environmentally friendly products and practices. "
   ]
  },
  {
   "cell_type": "markdown",
   "metadata": {},
   "source": [
    "### Problem Statement\n",
    "\n",
    "In the 21st Century, more companies build their brand with the consideration of **lessened environmental impact** or **carbon footprint**. Thus, their operations products and services are inclined to being more **environmentally friendly** and sustainable, in line with their values and ideals. <br>\n",
    "To improve market research on their products/services, we developed the folowing **ML project** that intends to determine how people **perceive climate change**, and _whether or not they believe it is a real threat_. <br>\n",
    "\n",
    "We believe this would provide a **metric** on how companies' products/service may be **received by the public**. Providing a robust ML solution will enable our clients to **access to a broad base of consumer sentiment**, spanning multiple demographic and geographic categories - thus **increasing their insights and informing future marketing strategies**.<br>\n",
    "\n",
    "To build our **predictive model** for the project, we utilized a dataset of **collected tweet data** to determine if a person believes in climate data or _not_.\n"
   ]
  },
  {
   "cell_type": "markdown",
   "metadata": {},
   "source": [
    "### Table of Contents\n",
    "\n",
    "<a href=#one>1. Introduction </a>\n",
    "- Problem Statement\n",
    "- Table of Contents\n",
    "- Summary\n",
    "    - Agenda\n",
    "    - Deliverables\n",
    "    - Results\n",
    "    - Future Considerations\n",
    "- Preliminary Activities\n",
    "    - Importing Packages\n",
    "    - Loading the Datasets\n",
    "    \n",
    "<a href=#two>2. Exploratory Data Analysis </a>\n",
    "- Functions Declaration\n",
    "- Statistical Summaries\n",
    "    - Train Dataset\n",
    "    - Test Dataset\n",
    "- Visualizations\n",
    "\n",
    "<a href=#three>3. Data Engineering </a>\n",
    "- Functions Declaration\n",
    "- Dealing with Null Values\n",
    "- Splitting features\n",
    "- Dummy Variables\n",
    "- Data Scaling\n",
    "- Feature Selection\n",
    "\n",
    "<a href=#four>4. Modelling </a>\n",
    "- Functions Declaration\n",
    "- Bernoulli Naive Bayes Classification\n",
    "    - Introduction #\n",
    "    - Model Development\n",
    "    - Model Performance Metrics\n",
    "    - Test Dataset Prediction Metrics\n",
    "- Multinomial Naive Bayes Classification\n",
    "    - Model Development\n",
    "    - Model Performance Metrics\n",
    "    - Test Dataset Prediction Metrics\n",
    "- Logistic Regression Classification\n",
    "    - Model Development\n",
    "    - Model Performance Metrics\n",
    "    - Test Dataset Prediction Metrics\n",
    "- Support Vector Machine Classification\n",
    "    - Model Development\n",
    "    - Model Performance Metrics\n",
    "    - Test Dataset Prediction Metrics\n",
    "- Hyper Parameter Tuning\n",
    "\n",
    "<a href=#five>5. Model Performance Comparison </a>\n",
    "\n",
    "\n",
    "<a href=#six>6. Model Explanation </a>\n",
    "\n",
    "<a href=#seven>7. Conclusion </a>\n",
    "\n",
    "<a href=#eight>8. Appendix </a>\n",
    "- Kaggle Submission\n",
    "    - Functions Declaration\n",
    "    - Submission Metrics"
   ]
  },
  {
   "cell_type": "markdown",
   "metadata": {},
   "source": [
    "### Summary\n",
    "\n",
    "**Agenda:**\n",
    "\n",
    "**Deliverables:**\n",
    "\n",
    "**Results:**\n",
    "\n",
    "**Future Considerations:**"
   ]
  },
  {
   "cell_type": "markdown",
   "metadata": {},
   "source": [
    "### Preliminary Activities"
   ]
  },
  {
   "cell_type": "markdown",
   "metadata": {},
   "source": [
    "#### Importing Packages"
   ]
  },
  {
   "cell_type": "code",
   "execution_count": 1,
   "metadata": {},
   "outputs": [
    {
     "name": "stderr",
     "output_type": "stream",
     "text": [
      "<ipython-input-1-ec07253162a1>:11: DeprecationWarning: PILLOW_VERSION is deprecated and will be removed in Pillow 9 (2022-01-02). Use __version__ instead.\n",
      "  from PIL import Image, ImageOps, ImageEnhance, PILLOW_VERSION\n"
     ]
    }
   ],
   "source": [
    "# Libraries for data loading, data manipulation\n",
    "import pandas as pd\n",
    "import numpy as np\n",
    "\n",
    "#Libraries for Data visualization\n",
    "import matplotlib.pyplot as plt\n",
    "import seaborn as sns\n",
    "sns.set(font_scale = 1)\n",
    "from wordcloud import WordCloud\n",
    "from statsmodels.graphics.correlation import plot_corr\n",
    "from PIL import Image, ImageOps, ImageEnhance, PILLOW_VERSION\n",
    "from wordcloud import STOPWORDS\n",
    "\n",
    "#Libraries to clean the text\n",
    "import contractions #This expands contraction such as 'don't' to 'do not'\n",
    "import regex as re\n",
    "import string\n",
    "import nltk\n",
    "from nltk.tokenize import TreebankWordTokenizer\n",
    "from nltk.tokenize import TreebankWordTokenizer\n",
    "from nltk.stem import WordNetLemmatizer\n",
    "from nltk.corpus import stopwords\n",
    "import emoji #allows us to manipulate with emojis\n",
    "import itertools\n",
    "\n",
    "\n",
    "#Libraries for test pre-processing\n",
    "from sklearn.feature_extraction.text import CountVectorizer\n",
    "from sklearn.feature_extraction.text import TfidfVectorizer\n",
    "from sklearn.feature_extraction.text import HashingVectorizer\n",
    "\n",
    "\n",
    "# Libraries for data preparation\n",
    "# import statsmodels.formula.api as sm\n",
    "# from statsmodels.formula.api import ols\n",
    "# from scipy.stats import pearsonr\n",
    "# from statsmodels.distributions.empirical_distribution import ECDF       #Imported for displaying the Empirical Cumulative Distribution of Features\n",
    "# from sklearn.feature_selection import SelectKBest, f_regression\n",
    "from sklearn.pipeline import Pipeline\n",
    "\n",
    "# Libraries for model building\n",
    "from sklearn.model_selection import train_test_split\n",
    "from sklearn.naive_bayes import BernoulliNB\n",
    "from sklearn.naive_bayes import MultinomialNB\n",
    "from sklearn.linear_model import LogisticRegression\n",
    "from sklearn.svm import SVC\n",
    "from sklearn.ensemble import RandomForestClassifier\n",
    "\n",
    "\n",
    "#Libraries for Model Performance\n",
    "from sklearn.metrics import classification_report\n",
    "from sklearn.metrics import f1_score, precision_score, recall_score, confusion_matrix\n",
    "\n",
    "from sklearn.metrics import mean_squared_error, r2_score\n",
    "from sklearn.tree import plot_tree\n",
    "from sklearn.model_selection import GridSearchCV\n",
    "\n",
    "# Libraries for mathematical analyses\n",
    "import numpy as np\n",
    "\n",
    "\n",
    "#Library for creating pickle files of the models\n",
    "import pickle\n",
    "\n",
    "# Setting global constants to ensure notebook results are reproducible\n",
    "# PARAMETER_CONSTANT = ###"
   ]
  },
  {
   "cell_type": "markdown",
   "metadata": {},
   "source": [
    "#### Loading the datasets"
   ]
  },
  {
   "cell_type": "markdown",
   "metadata": {},
   "source": [
    "The project has two datasets:\n",
    "\n",
    "1. The train data\n",
    "    - This is the data that will be used to teach the Machine Learning Algorithm(model) to predict the sentiments.\n",
    "2. The test data\n",
    "    - The observations here will be predicted to gauge the prediction accuracy of the model(s) trained."
   ]
  },
  {
   "cell_type": "code",
   "execution_count": 2,
   "metadata": {},
   "outputs": [],
   "source": [
    "#A00\n",
    "#load the datasets in raw_df\n",
    "raw_train_df = pd.read_csv('resources/data/train.csv')\n",
    "raw_test_df = pd.read_csv('resources/data/test.csv')"
   ]
  },
  {
   "cell_type": "markdown",
   "metadata": {},
   "source": [
    "<a id=\"two\"></a>\n",
    "## 2. Exploratory Data Analysis"
   ]
  },
  {
   "cell_type": "markdown",
   "metadata": {},
   "source": [
    "Exploratory Data Analysis(EDA) refers to investigating the data in its raw form to spot anomalies, discover patterns and check for assumptions using summary statistics. \n",
    "\n",
    "Preliminary checks of the EDA might include:\n",
    "\n",
    "1. Columns in the data\n",
    "2. Number of observations in the data\n",
    "3. Presence of missing values in the data\n",
    "4. Presence of duplicates\n",
    "5. Type of data in the columns; numerical(discrete, continuous), categorical or time\n",
    "6. Presence of outliers/uncommon observations\n",
    "\n",
    "The patterns existing in the dataset can be displayed using graphs and visuals. To outline the patterns, we look at:\n",
    "- Patterns in the individual columns (univariate analysis)\n",
    "- Patterns between columns (multivariate analysis)\n",
    "\n",
    "Analysis of the patterns allows us to test hypotheses that can give us insight into the topic the data covers. Going through the EDA process is necessary because it highlights the steps for preparing the data for prediction modelling."
   ]
  },
  {
   "cell_type": "markdown",
   "metadata": {},
   "source": [
    "### Statistical Summaries"
   ]
  },
  {
   "cell_type": "markdown",
   "metadata": {},
   "source": [
    "Statistical Summaries are used to communicate information about large datasets by summarizing the set of observations. \n",
    "\n",
    "They can be measures of central tendancy (mean, mode), distribution (skewness and kurtosis) and relationship (correlation). The features of the dataset in this project is expected to be text data. The summaries that will be covered in the EDA are mode. Mode refers to the most frequent object, in this case words. The anomalies covered are the null values and the duplicates."
   ]
  },
  {
   "cell_type": "markdown",
   "metadata": {},
   "source": [
    "#### Train Dataset"
   ]
  },
  {
   "cell_type": "markdown",
   "metadata": {},
   "source": [
    "We have loaded two datasets: train and test. This section explores the train dataframe. Thereafter, we will explore the test dataframe\n",
    "\n",
    "First, we make a copy of the train dataset. Any manipulations on the data frame does not have an effect on the raw train_df. "
   ]
  },
  {
   "cell_type": "code",
   "execution_count": 3,
   "metadata": {},
   "outputs": [],
   "source": [
    "#A00\n",
    "#Set deep as True to copy both the indices and data of the df\n",
    "train_df = raw_train_df.copy(deep = True)"
   ]
  },
  {
   "cell_type": "markdown",
   "metadata": {},
   "source": [
    "Next, we view the first five columns of the dataset. This gives us an overview of the columns and a preview of the rows"
   ]
  },
  {
   "cell_type": "code",
   "execution_count": null,
   "metadata": {},
   "outputs": [],
   "source": [
    "train_df.head()"
   ]
  },
  {
   "cell_type": "markdown",
   "metadata": {},
   "source": [
    "From the first five rows we see that the train df contains three columns containing the tweet in the message column, the sentiment in numerical figures and the tweetid.\n",
    "\n",
    "Sometimes, data is inappriately stored and can cause issues when performing analysis. Therefore, we check the data type of the columns using .info "
   ]
  },
  {
   "cell_type": "code",
   "execution_count": null,
   "metadata": {},
   "outputs": [],
   "source": [
    "train_df.info()"
   ]
  },
  {
   "cell_type": "markdown",
   "metadata": {},
   "source": [
    "The sentiment and tweetid column are stored as integers and the message is stored as string. These data types match the contents in the column. \n",
    "\n",
    "Given that the message is as string, we will have to convert it to numerical format in the feature engineering section. This will be done using vectorization. Vectorization takes the words in the columns and assigns them a numerical figure based on calculations on its frequency in the column.\n",
    "\n",
    "Next, we inspect the number of observations in the dataframe. This allows us to see how many values we will be working with in the modelling phase."
   ]
  },
  {
   "cell_type": "code",
   "execution_count": null,
   "metadata": {},
   "outputs": [],
   "source": [
    "train_df.shape"
   ]
  },
  {
   "cell_type": "markdown",
   "metadata": {},
   "source": [
    "The dataset contains 15,819 observations. Observations above 30 are considered as best practice for modelling."
   ]
  },
  {
   "cell_type": "code",
   "execution_count": null,
   "metadata": {},
   "outputs": [],
   "source": [
    "#Inspecting the tweetid column\n",
    "train_df['tweetid'].describe()"
   ]
  },
  {
   "cell_type": "markdown",
   "metadata": {},
   "source": [
    "- The tweetid column is in numerical figures ranging from 6 to 999888"
   ]
  },
  {
   "cell_type": "markdown",
   "metadata": {},
   "source": [
    "Now that we have general information about the dataset, we look at our target variable. \n",
    "\n",
    "The sentiments are our target variable, using value_counts we see the different categories of sentiments and their corresponding number of observations and visualize with a bar graph"
   ]
  },
  {
   "cell_type": "code",
   "execution_count": null,
   "metadata": {},
   "outputs": [],
   "source": [
    "#set the figure size\n",
    "plt.figure(figsize=(8,6), dpi=80)\n",
    "\n",
    "#plot the frequency of the sentiments:\n",
    "#using df.plot function\n",
    "mycolors = [\"navy\", \"cornflowerblue\", \"blue\", \"aqua\"]\n",
    "train_df['sentiment'].value_counts(ascending = True).plot(kind = 'pie', \n",
    "                                                          title = 'Sentiment Distribution', \n",
    "                                                          xlabel = 'Sentiments',\n",
    "                                                         ylabel = 'Frequency', colors = mycolors\n",
    "                                                          )\n",
    "plt.legend(['Anti', 'Nuetral', 'Factual', 'Pro'], loc =\"lower right\", bbox_to_anchor =(1.5, 0.15))\n",
    "plt.show()\n",
    "#display the actual values of the sentiments\n",
    "train_df['sentiment'].value_counts()"
   ]
  },
  {
   "cell_type": "markdown",
   "metadata": {},
   "source": [
    "As seen above, the sentiment column has four unique integers. From our variable description, we derive the following meanings for each category:\n",
    "- 2 News: the tweet links to factual news about climate change\n",
    "- 1 Pro: the tweet supports the belief of man-made climate change\n",
    "- 0 Neutral: the tweet neither supports nor refutes the belief of man-made climate change\n",
    "- -1 Anti: the tweet does not believe in man-made climate change\n",
    "\n",
    "From the cell above, we see that Pro sentiments are the highest in the dataset with 8,530 observations. The Anti The sentiments are lowest with 1,296 obseravations. \n",
    "\n",
    "Therefore, our data has more information about Pro sentiments than it does about Anti sentiments. This is a representation gap that is reffered to as _imbalanced dataset_. Due to the insufficient information we have about the lower frequency sentiments,  the learning capability of our model is compromised.\n",
    "\n",
    "In the feature engineering section, we will fix this by randomly selecting examples from the minority sentiments and adding them to the dataframe with replacement.\n"
   ]
  },
  {
   "cell_type": "markdown",
   "metadata": {},
   "source": [
    "##### Duplicates\n",
    "\n",
    "Incorrect duplicates affect the learning capability of the model. It is an anomally that gives conflicting information to the model. For this reason, we check for incorrect duplicates in the data to remove them in the Feature Engineering section. We are only concerned with the incorrect duplicates because we have a imbalanced dataset as highlighted above. The correct duplicates will remain in the dataset.\n",
    "\n",
    "For this classification problem, each unique observation should have its own sentiment. That is, one tweet can not have two sentiments. Failure to which, the observation will be dropped.\n",
    "\n",
    "We first check if there are duplicates in the tweet_id column using .unique()\n"
   ]
  },
  {
   "cell_type": "markdown",
   "metadata": {},
   "source": [
    "The unique values of the tweetid column are equal to the number of observations in the dataset. Therefore, they are unique identifies to the tweets and there are no duplicate values.\n",
    "\n",
    "We can now check if all the tweets are unique."
   ]
  },
  {
   "cell_type": "code",
   "execution_count": null,
   "metadata": {},
   "outputs": [],
   "source": [
    "#Checking the number of unique values\n",
    "\n",
    "len(train_df['message'].unique())"
   ]
  },
  {
   "cell_type": "markdown",
   "metadata": {},
   "source": [
    "There are 14,229 unique tweets which is less than the number of rows in the dataset. This is an indication of duplicated tweets in the dataset.\n",
    "\n",
    "We get the exact number of duplicates in the message column by checking the shape of duplicated messages."
   ]
  },
  {
   "cell_type": "code",
   "execution_count": null,
   "metadata": {},
   "outputs": [],
   "source": [
    "#create a dataframe of duplicates\n",
    "dupli = train_df[train_df.duplicated(['message'])]\n",
    "\n",
    "#set the size of the plot\n",
    "plt.figure(figsize=(8,6), dpi=80)\n",
    "#generate the horizontal bar graph:\n",
    "#using df.plot\n",
    "\n",
    "dupli['sentiment'].value_counts(ascending = True).plot(kind = 'barh', \n",
    "                                                       title = 'Duplicates Distribution', \n",
    "                                                       xlabel = 'Sentiments',\n",
    "                                                         ylabel = 'Frequency')\n",
    "ax = plt.axes()\n",
    "ax.set_facecolor('white')\n",
    "plt.grid(False)\n",
    "plt.savefig('duplicates.png')\n",
    "plt.show()\n",
    "\n",
    "#display the frequency of the duplicates per sentiment\n",
    "print(dupli['sentiment'].value_counts())"
   ]
  },
  {
   "cell_type": "markdown",
   "metadata": {},
   "source": [
    "The Pro sentiments have the highest number of duplicates and also the highest number of observations in the dataset. To assist with imbalancing, the duplicates for the Pro sentiments in the Feature Engineering section."
   ]
  },
  {
   "cell_type": "markdown",
   "metadata": {},
   "source": [
    "The duplicated tweets are 1,590. This is quite a number.\n",
    "We are only interested in the tweets are similar but have been classified opposing each other. We check this by grouping the tweets and counting the unique sentiments of the grouped tweet. If a tweet has more than one unique sentiment, we conclude that it is an incorrect duplicate"
   ]
  },
  {
   "cell_type": "code",
   "execution_count": null,
   "metadata": {},
   "outputs": [],
   "source": [
    "#filter the tweets: \n",
    "#that have more than one sentiment and create a df\n",
    "\n",
    "duplicates = train_df.groupby('message').filter(lambda x: len(x['sentiment'].unique()) > 1)\n",
    "\n",
    "#display the contents in the df\n",
    "duplicates"
   ]
  },
  {
   "cell_type": "markdown",
   "metadata": {},
   "source": [
    "Out of the duplicated observations, 8 of them are not equal in sentiment. These give us confilicting information about the relationship betweeen the tweet and the sentiment. \n",
    "\n",
    "Considering that the train dataset is imbalanced, we will drop the duplicates in the feature engineering section."
   ]
  },
  {
   "cell_type": "markdown",
   "metadata": {},
   "source": [
    "##### Missing data\n",
    "\n",
    "Missing data refers to empty values in the data set. They are also referred to as null values and are represented as 'NaN'. Columns with alot of missing data can be dropped. The criteria of whether to drop a column with null values can be determined by a threshhold. If the column does not surpass a stipulated null value thresh hold, the null values can be replaced with the most frequent value in the column or the average of the column. \n",
    "\n",
    "We check for missing data by summing the number of null values for each column, as below."
   ]
  },
  {
   "cell_type": "code",
   "execution_count": null,
   "metadata": {},
   "outputs": [],
   "source": [
    "train_df.isna().sum()"
   ]
  },
  {
   "cell_type": "markdown",
   "metadata": {},
   "source": [
    "There are no null values in the dataset. Therefore, no imputation will be perfomed on the data set. With these checks done, we can step into our main feature, the tweets.\n",
    "\n",
    "##### Tweet Visualization\n",
    "\n",
    "In this segment, we step into the tweets. We take a sample and view what it contains. One way to do this is through wordclouds.\n",
    "Wordclouds are graphical representations of word frequency. It gives priority to more frequent words, and displays them with different font sizes. More frequent words appear larger than the less frequent words.\n",
    "\n",
    "Generating the word cloud, gives us insight to what is prominent in each sentiment represented. We will also view the anomolies in the tweets that will be cleaned in the Feature Engineering section."
   ]
  },
  {
   "cell_type": "code",
   "execution_count": null,
   "metadata": {},
   "outputs": [],
   "source": [
    "#generating the wordcloud to show the top 50 words\n",
    "\n",
    "def black_color_func(word, font_size, position,orientation,random_state=None, **kwargs):\n",
    "    return(\"hsl(0,100%, 1%)\")\n",
    "# set the wordcloud background color to white\n",
    "\n",
    "# set max_words to 500\n",
    "\n",
    "# set width and height to higher quality, 5000 x 4000\n",
    "\n",
    "mask = np.array(Image.open(\n",
    "                r'C:\\Users\\USER\\Downloads\\image.png'))\n",
    "mask = mask +255                          \n",
    "wordcloud = WordCloud(width = 4000, height = 5000, font_path = 'arial', \n",
    "                      background_color=\"white\", mask = mask, \n",
    "                      max_words=500, min_font_size = 8, max_font_size=50, \n",
    "                      contour_color='#023075',\n",
    "                      contour_width=3).generate(' '.join(train_df['message']))\n",
    "# set the word color to black\n",
    "wordcloud.recolor(color_func = black_color_func)\n",
    "# set the figsize\n",
    "plt.figure(figsize=[20,10])\n",
    "plt.title('Most frequent words in the tweets', fontsize = 24, color = 'blue')\n",
    "# plot the wordcloud\n",
    "plt.imshow(wordcloud, interpolation=\"bilinear\")\n",
    "\n",
    "# remove plot axes\n",
    "plt.axis(\"off\")\n",
    "\n",
    "plt.show()\n",
    "wordcloud.to_file(\"wordcloud_general.png\")"
   ]
  },
  {
   "cell_type": "markdown",
   "metadata": {},
   "source": [
    "The wordcloud has generated the top 50 words in the message column. Climate change and global warming are the most frequent words judging by their size. This is in line with the project topic, especially that most tweets in the dataset are for pro-climate change sentiments. \n",
    "\n",
    "In addition we see some words that are not in English e.g.  SjoFoNá, and words that are not directly related to expressing a sentiment like 'RT'. This is referred to jargon. The process of eliminating the data in the tweets that is noise to the sentiment is called garbage in, garbage out. In the feature engineering section, we will perform this task before modelling the data.\n",
    "\n",
    "\n",
    "Let us step into the tweets per sentiments and generate word clouds to check for patterns in the top 50 words"
   ]
  },
  {
   "cell_type": "code",
   "execution_count": null,
   "metadata": {},
   "outputs": [],
   "source": [
    "#We generate a new data frame that joins all the tweets per sentiment\n",
    "\n",
    "train_grouped=train_df[['sentiment','message']].groupby('sentiment').agg(sum)\n",
    "train_grouped.head()"
   ]
  },
  {
   "cell_type": "markdown",
   "metadata": {},
   "source": [
    "The resulting dataframe has one columns with the concatened tweets and four rows with the sentiments. To ascertain our success, let us sample on of the rows."
   ]
  },
  {
   "cell_type": "code",
   "execution_count": null,
   "metadata": {},
   "outputs": [],
   "source": [
    "#select the tweet of the sentiment in index 0\n",
    "text = train_grouped.iloc[0,0]\n",
    "\n",
    "text_list = [train_grouped.iloc[0,0], train_grouped.iloc[1,0],\n",
    "             train_grouped.iloc[2,0], train_grouped.iloc[3,0]]\n",
    "\n",
    "\n",
    "def black_color_func(word, font_size, position,orientation,random_state=None, **kwargs):\n",
    "    return(\"hsl(0,100%, 1%)\")\n",
    "# set the wordcloud background color to white\n",
    "\n",
    "# set max_words to 500\n",
    "\n",
    "# set width and height to higher quality, 5000 x 4000\n",
    "\n",
    "mask = np.array(Image.open(\n",
    "                r'C:\\Users\\USER\\Downloads\\image.png'))\n",
    "mask = mask +255                          \n",
    "wordcloud = WordCloud(width = 4000, height = 5000, font_path = 'arial', \n",
    "                      background_color=\"white\", mask = mask, contour_color='#023075',contour_width=3,\n",
    "                      max_words=500, min_font_size=8, max_font_size=50)\n",
    "title = ['Common words for News tweets',\n",
    "        'Common words for Pro tweets',\n",
    "        'Common words for Neutral tweets',\n",
    "        'Common words for Anti tweets']\n",
    "\n",
    "plt.figure(figsize=[20,15])\n",
    "# Create subplots \n",
    "for i in range(0, len(text_list)):\n",
    "    \n",
    "    wordcloud.generate_from_text(text_list[i])\n",
    "    wordcloud.recolor(color_func = black_color_func)\n",
    "    plt.subplot(2, 2, i + 1)\n",
    "    plt.imshow(wordcloud, interpolation='bilinear')\n",
    "    plt.axis(\"off\")\n",
    "    plt.title(title[i])\n",
    "\n",
    "    \n",
    "plt.show()"
   ]
  },
  {
   "cell_type": "markdown",
   "metadata": {},
   "source": [
    "The wordcloud shows that:\n",
    "- Climate change and global warming are the most frequent words, similar to the general tweets wordcloud\n",
    "- There is unnecessary jargon and common words e.g. cause and going\n",
    "- Some key words in the wordcloud such as hoax and foax are grammarly aligned with anti-sentiments\n"
   ]
  },
  {
   "cell_type": "markdown",
   "metadata": {},
   "source": [
    "The wordcloud for the neutral sentiments shows that:\n",
    "- Climate change and global warming are the most frequent words, similar to the general tweets wordcloud\n",
    "- There is unnecessary jargon and common words e.g. will and u\n"
   ]
  },
  {
   "cell_type": "markdown",
   "metadata": {},
   "source": [
    "The wordcloud for the pro sentiments shows that:\n",
    "- Climate change and global warming are the most frequent words, similar to the general tweets wordcloud\n",
    "- There is unnecessary jargon and common words e.g. https and SjoFoNá\n",
    "- Some key words in the wordcloud such as believe and real are grammarly aligned with pro-sentiments\n"
   ]
  },
  {
   "cell_type": "markdown",
   "metadata": {},
   "source": [
    "The wordcloud for the factual sentiments shows that:\n",
    "- Climate change and global warming are the most frequent words, similar to the general tweets wordcloud\n",
    "- There is unnecessary jargon and common words e.g. rt and s\n",
    "- Some key words in the wordcloud such as report and CNN are grammarly aligned with news. \n"
   ]
  },
  {
   "cell_type": "markdown",
   "metadata": {},
   "source": [
    "#### Tweet Summary Statistics\n",
    "\n",
    "To explore the tweets in the dataset, we look at the features that summarizes information about the tweet.\n",
    "\n",
    "The new features will be numerical in nature and non-redundant. These are:\n",
    "\n",
    "1. Tweet Length\n",
    "2. Number of words per tweet\n",
    "3. Number of stop words per tweet\n",
    "4. Number of punctuations per tweet\n",
    "5. Number of hashtags\n",
    "6. Number of mentions\n",
    "7. Number of words beginning with an uppercase letter per tweet\n",
    "\n",
    "After creating the features, we will visualize the tweets and draw insights."
   ]
  },
  {
   "cell_type": "markdown",
   "metadata": {},
   "source": [
    "_1. Tweet Length_ \n",
    "\n",
    "This is also referred to as the number of characters in the string. Twitter allows a maximum of 140 characters per tweet."
   ]
  },
  {
   "cell_type": "code",
   "execution_count": null,
   "metadata": {},
   "outputs": [],
   "source": [
    "train_df['tweet_len'] = train_df['message'].astype(str).apply(len)\n",
    "train_df.groupby('sentiment')['tweet_len'].mean().plot(kind = 'box', subplots = True,\n",
    "                                                       title = 'Tweet Length Distribution', \n",
    "                                                       xlabel = 'Sentiments',\n",
    "                                                         ylabel = 'Frequency')\n",
    "plt.grid(False)\n",
    "plt.show()\n",
    "\n",
    "train_df.groupby('sentiment')['tweet_len'].mean().plot(kind = 'barh', subplots = True,\n",
    "                                                       title = 'Average Tweet Length per Sentiment', \n",
    "                                                       xlabel = 'Sentiments',\n",
    "                                                         ylabel = 'Frequency')\n",
    "plt.grid(False)\n",
    "plt.show()"
   ]
  },
  {
   "cell_type": "markdown",
   "metadata": {},
   "source": [
    "- The tweet length ranges between approximately 112.5 - 18.0.\n",
    "- The average tweet length is 122.5. This is highly influenced by the pro sentiments which has the highest frequency in the dataset\n",
    "- The pro sentiments have the highest average tweet length with over 120."
   ]
  },
  {
   "cell_type": "markdown",
   "metadata": {},
   "source": [
    "_2. Number of words per tweet_"
   ]
  },
  {
   "cell_type": "code",
   "execution_count": null,
   "metadata": {},
   "outputs": [],
   "source": [
    "train_df['word_count'] = train_df[\"message\"].apply(lambda x: len(re.findall(r'\\w+', x)))\n",
    "train_df.groupby('sentiment')['word_count'].mean().plot(kind = 'box', \n",
    "                                                       title = 'Number of Words Boxplot', \n",
    "                                                       xlabel = 'Sentiments',\n",
    "                                                         ylabel = 'Frequency',\n",
    "                                                       color = 'navy')\n",
    "plt.grid(False)\n",
    "plt.show()\n",
    "train_df.groupby('sentiment')['word_count'].mean().plot(kind = 'barh', \n",
    "                                                       title = 'Average Number of Words per Sentiment', \n",
    "                                                       xlabel = 'Sentiments',\n",
    "                                                         ylabel = 'Frequency',\n",
    "                                                       color = 'navy')\n",
    "plt.grid(False)\n",
    "plt.show()"
   ]
  },
  {
   "cell_type": "markdown",
   "metadata": {},
   "source": [
    "- The number of words range from 18 - 21, with a mean of 19.\n",
    "- The neutral sentiment tweets have the lowest average number of words per tweet.\n",
    "- Pro sentiments and Anti sentiments are nearly at par in the average number of words per tweet. This might be related to the high emotional connect that is linked to these beliefs."
   ]
  },
  {
   "cell_type": "markdown",
   "metadata": {},
   "source": [
    "_3. Number of stop words per tweet_\n",
    "\n",
    "The term _stopwords_ in Data Science refers to the common words used to fill or link a sentence. These are words such as _don't_, _it_, and _this_. They occur frequently in the natural language. The identification and removal of stop words from texts increases the training quality of the model as it only highlights the keywords.\n",
    "\n",
    "Using a natural languange processor, we have a list of these words in english that we can use in processing our data."
   ]
  },
  {
   "cell_type": "code",
   "execution_count": null,
   "metadata": {},
   "outputs": [],
   "source": [
    "stop_words = set(stopwords.words('english'))\n",
    "train_df['num_stop_words'] = train_df['message'].str.split().apply(lambda x: len(set(x) & stop_words))\n",
    "train_df.groupby('sentiment')['num_stop_words'].mean().plot(kind = 'box', \n",
    "                                                       title = 'Stop Words Boxplot', \n",
    "                                                       xlabel = 'Sentiments',\n",
    "                                                         ylabel = 'Frequency',\n",
    "                                                           color = 'navy')\n",
    "plt.grid(False)\n",
    "plt.show()\n",
    "train_df.groupby('sentiment')['num_stop_words'].mean().plot(kind = 'barh', \n",
    "                                                       title = 'Average Number of Stop Words per Sentiment', \n",
    "                                                       xlabel = 'Sentiments',\n",
    "                                                         ylabel = 'Frequency',\n",
    "                                                           color = 'cornflowerblue')\n",
    "plt.grid(False)\n",
    "plt.show()"
   ]
  },
  {
   "cell_type": "markdown",
   "metadata": {},
   "source": [
    "- Despite being the second most observed sentiment, the factual sentiments have the lowest number of stopwords.\n",
    "- The Pro sentiments have the highest average number of stopwords, followed by the Anti sentiments"
   ]
  },
  {
   "cell_type": "markdown",
   "metadata": {},
   "source": [
    "_4. Number of punctuations per tweet_"
   ]
  },
  {
   "cell_type": "markdown",
   "metadata": {},
   "source": [
    "Similar to stopwords, punctuations occur frequently in text data. While they are useful in written text, models may mistakenly identify the punctuations as key to the sentiment. Therefore, it is key to identify their distribution for removal."
   ]
  },
  {
   "cell_type": "code",
   "execution_count": null,
   "metadata": {},
   "outputs": [],
   "source": [
    "train_df['num_punctuations'] = train_df[\"message\"].apply(lambda x: len(re.findall(r'[!\"\\$%&\\'()*+,\\-.\\/:;=#@?\\[\\\\\\]^_`{|}~]*', \n",
    "                        x)))\n",
    "\n",
    "train_df.groupby('sentiment')['num_punctuations'].mean().plot(kind = 'box', \n",
    "                                                       title = 'Punctuations Boxplot', \n",
    "                                                       xlabel = 'Sentiments',\n",
    "                                                         ylabel = 'Frequency', color = 'navy')\n",
    "plt.grid(False)\n",
    "plt.show()\n",
    "train_df.groupby('sentiment')['num_punctuations'].mean().plot(kind = 'barh', \n",
    "                                                       title = 'Average Number of Punctuations per Sentiment', \n",
    "                                                       xlabel = 'Sentiments',\n",
    "                                                         ylabel = 'Frequency', color = 'navy')\n",
    "plt.show()"
   ]
  },
  {
   "cell_type": "markdown",
   "metadata": {},
   "source": [
    "- The maximum number of punctuations in a tweet, over 127, exceed the maximum number of words in the dataset.\n",
    "- The neutral sentiment has the lowest number of punctuations as opposed to the Pro sentiments that have the highest."
   ]
  },
  {
   "cell_type": "markdown",
   "metadata": {},
   "source": [
    "_5. Number of hashtags_\n",
    "\n",
    "Hashtags on twitter often acts as a guide to the topic of the tweet.\n",
    "\n",
    "An example: \n",
    "\n",
    "    \"Speaking as an @IPCC_CH Lead Author, these are some of the most important new messages from the #climate report out today: (🧵)\n",
    "    1. For the first time we’re seeing evidence of real, sustained decreases in greenhouse gas emissions from some countries.\"\n",
    "\n",
    "The tweet above is about climate change. However, you only have to spot the hashtag _#climate_ to identify the topic of the tweet. Similarly, we can identify the hashtags in the dataset to relate to the topic."
   ]
  },
  {
   "cell_type": "code",
   "execution_count": null,
   "metadata": {},
   "outputs": [],
   "source": [
    "train_df['num_hashtags'] = train_df[\"message\"].apply(lambda x: len(re.findall(r'#(\\w+)', x)))\n",
    "\n",
    "plt.subplot(1,3,3)\n",
    "sns.stripplot(y='num_hashtags', x='sentiment', data=train_df, jitter=True)\n",
    "plt.title('Number of hashtags')\n",
    "plt.ylabel('Hashtag frequency')\n",
    "plt.xlabel('Sentiments')\n",
    "fig = plt.gcf()\n",
    "fig.set_size_inches( 23, 5)\n",
    "\n",
    "plt.show()"
   ]
  },
  {
   "cell_type": "markdown",
   "metadata": {},
   "source": [
    "- The number of hashtags in the tweets range from 0 - 8\n",
    "- The Pro sentiments have the highest count of hashtags, 8. While the rest of the sentiments have their maximum hashtag count at 8."
   ]
  },
  {
   "cell_type": "markdown",
   "metadata": {},
   "source": [
    "_6. Number of mentions_\n",
    "\n",
    "Mentions are a way to refer to another twitter user. For climate change tweets, they may refer to users that lead climate change conversations. \n",
    "\n",
    "We look at how many mentions are in the tweets, per sentiment in the cell below."
   ]
  },
  {
   "cell_type": "code",
   "execution_count": null,
   "metadata": {},
   "outputs": [],
   "source": [
    "train_df['num_mentions'] = train_df[\"message\"].apply(lambda x: len(re.findall(r'@(\\w+)', x)))\n",
    "\n",
    "plt.subplot(1,3,3)\n",
    "sns.stripplot(y='num_mentions', x='sentiment', data=train_df, jitter=True)\n",
    "plt.title('Number of mentions')\n",
    "plt.ylabel('Mentions frequency')\n",
    "plt.xlabel('Sentiments')\n",
    "fig = plt.gcf()\n",
    "fig.set_size_inches( 23, 5)\n",
    "\n",
    "plt.show()"
   ]
  },
  {
   "cell_type": "markdown",
   "metadata": {},
   "source": [
    "- Majority of the tweets in the data mention another user at a range of 0 - 3.\n",
    "- The neutral and pro sentiments have two tweets with the highest count of mentions amongst their tweets. "
   ]
  },
  {
   "cell_type": "markdown",
   "metadata": {},
   "source": [
    "_7. Number of words in UpperCase_"
   ]
  },
  {
   "cell_type": "markdown",
   "metadata": {},
   "source": [
    "Another way to identify the topics of a tweet is through the words in upper case. Except in the event of a typo, beginning of a sentence and the pronoun 'I', words that begin with an uppercase refer to an entity or a person. An entity can be a company or a place.\n",
    "\n",
    "Let us look at the distribution of the number of entities in the tweets."
   ]
  },
  {
   "cell_type": "code",
   "execution_count": null,
   "metadata": {},
   "outputs": [],
   "source": [
    "train_df['num_uppercase'] = train_df[\"message\"].apply(lambda x:sum(map(str.isupper,x.split())))\n",
    "\n",
    "plt.subplot(1,3,3)\n",
    "sns.stripplot(y='num_uppercase', x='sentiment', data=train_df, jitter=True)\n",
    "plt.title('Number of Uppercase')\n",
    "plt.ylabel('Mentions frequency')\n",
    "plt.xlabel('Sentiments')\n",
    "fig = plt.gcf()\n",
    "fig.set_size_inches( 23, 5)\n",
    "\n",
    "plt.show()"
   ]
  },
  {
   "cell_type": "markdown",
   "metadata": {},
   "source": [
    "The Factual sentiments, the Pro sentiments has the tweets with the highest number of UpperCase words."
   ]
  },
  {
   "cell_type": "markdown",
   "metadata": {},
   "source": [
    "##### In summary:\n",
    "\n",
    "- Our dataset contains 15,189 observations and three columns; tweet id, message and sentiment\n",
    "- There are no missing values in the dataset\n",
    "- There are duplicates that will be dropped in the Feature Engineering section\n",
    "- The tweets contains jargon and words that are not necessary for gaining insights. Therefore, it will be cleaned.\n",
    "- Marjority of the numerical features in the dataset score highest for the Pro sentiments. The Pro sentiments also contain the highest number of observations. The data set contains alot of unique information about the Pro sentiments.\n",
    "\n",
    "Using the new numerical features generated, we will attempt to enhance our understanding of the relationship between the tweets and the sentiment in the Feature Engineering section.\n",
    "\n",
    "Having extensively explored the train data set, let us proceed to do the same with the test data set."
   ]
  },
  {
   "cell_type": "markdown",
   "metadata": {},
   "source": [
    "#### Test Dataset"
   ]
  },
  {
   "cell_type": "markdown",
   "metadata": {},
   "source": [
    "It is best practice to separate the data into train and test dataframe. The train dataframe will be used to teach our model while the test dataframe checks if the model predicts accurately. For this project the predictions made on the test dataframe will be submitted on the kaggle challenge.\n",
    "\n",
    "Similar to the train dataset, we first create a copy of the dataset in accordance with best practices"
   ]
  },
  {
   "cell_type": "code",
   "execution_count": 28,
   "metadata": {},
   "outputs": [],
   "source": [
    "#A00\n",
    "test_df = raw_test_df.copy(deep = True)"
   ]
  },
  {
   "cell_type": "markdown",
   "metadata": {},
   "source": [
    "We then proceed to view the first five rows in the dataset"
   ]
  },
  {
   "cell_type": "code",
   "execution_count": null,
   "metadata": {},
   "outputs": [],
   "source": [
    "test_df.head()"
   ]
  },
  {
   "cell_type": "markdown",
   "metadata": {},
   "source": [
    "The test dataframe has two columns with the message and tweetid. The target variable, sentiment is not present in the dataset.\n",
    "\n",
    "The message column contains text while the tweet id contains numerical figures."
   ]
  },
  {
   "cell_type": "code",
   "execution_count": null,
   "metadata": {},
   "outputs": [],
   "source": [
    "test_df.shape"
   ]
  },
  {
   "cell_type": "markdown",
   "metadata": {},
   "source": [
    "The dataframe has 10,546 observations which we will use to predict for the model."
   ]
  },
  {
   "cell_type": "code",
   "execution_count": null,
   "metadata": {},
   "outputs": [],
   "source": [
    "test_df.isna().sum()"
   ]
  },
  {
   "cell_type": "markdown",
   "metadata": {},
   "source": [
    "There are no null values in the dataframe. Therefore, there is no need to drop any rows.\n",
    "\n",
    "##### Checking for duplicates"
   ]
  },
  {
   "cell_type": "code",
   "execution_count": null,
   "metadata": {},
   "outputs": [],
   "source": [
    "len(raw_test_df['tweetid'].unique())"
   ]
  },
  {
   "cell_type": "markdown",
   "metadata": {},
   "source": [
    "The tweet id  has no duplicates and uniquely identifies each tweet in the dataframe. Next we check if each tweet is unique."
   ]
  },
  {
   "cell_type": "code",
   "execution_count": null,
   "metadata": {},
   "outputs": [],
   "source": [
    "len(test_df['message'].unique())"
   ]
  },
  {
   "cell_type": "markdown",
   "metadata": {},
   "source": [
    "The message column has duplicates since the number of unique tweets is less than the total number of observations in the dataframe.\n",
    "\n",
    "The code below allows us to get the exact number of duplicates using '.duplicated'."
   ]
  },
  {
   "cell_type": "code",
   "execution_count": null,
   "metadata": {},
   "outputs": [],
   "source": [
    "test_df[test_df.duplicated(['message'])].shape"
   ]
  },
  {
   "cell_type": "markdown",
   "metadata": {},
   "source": [
    "In the test dataframe, we have 971 duplicate tweets. During the model prediction, we will test out if the model predicts the same sentiment for the duplicated tweets. This will help us view the accuracy of the model"
   ]
  },
  {
   "cell_type": "markdown",
   "metadata": {},
   "source": [
    "##### Tweet Visualisation"
   ]
  },
  {
   "cell_type": "code",
   "execution_count": null,
   "metadata": {},
   "outputs": [],
   "source": [
    "mask = np.array(Image.open(\n",
    "                r'C:\\Users\\USER\\Downloads\\image.png'))\n",
    "mask = mask +255                          \n",
    "wordcloud = WordCloud(width = 4000, height = 5000, font_path = 'arial', \n",
    "                      background_color=\"white\", mask = mask, \n",
    "                      max_words=500, \n",
    "                      min_font_size=8, max_font_size=40, \n",
    "                      contour_color='#023075',\n",
    "                      contour_width=3).generate(' '.join(test_df['message']))\n",
    "# set the word color to black\n",
    "wordcloud.recolor(color_func = black_color_func)\n",
    "# set the figsize\n",
    "plt.figure(figsize=[20,10])\n",
    "plt.title('Most Frequent Words in the Test Datafrane', fontsize = 24, color = 'black')\n",
    "# plot the wordcloud\n",
    "plt.imshow(wordcloud, interpolation=\"bilinear\")\n",
    "\n",
    "# remove plot axes\n",
    "plt.axis(\"off\")\n",
    "\n",
    "plt.show()"
   ]
  },
  {
   "cell_type": "markdown",
   "metadata": {},
   "source": [
    "From the wordcloud, we derive the following insights:\n",
    "\n",
    "- Climate change, global warming are some of the most frequent words in line with our topic. \n",
    "- Presence of https shows that there are many urls\n",
    "- There is jargon in the tweet, e.g. SjoFoNá\n",
    "- There is a mix of pro and anti words in the columns, e.g. believe and hoax.\n",
    "\n",
    "The noise in the data, we will cleaned through the same steps that will be done for the train dataframe. In addition, the features engineered will be applied to the test dataframe before feeding it into the model for predictions.\n",
    "\n",
    "Now we can move on to the next section, Feature Engineering."
   ]
  },
  {
   "cell_type": "markdown",
   "metadata": {},
   "source": [
    "<a id=\"three\"></a>\n",
    "## 3. Feature Engineering\n",
    "\n",
    "\n",
    "Feature Engineering refers to the process of preparing raw data for modelling. This step improves the quality of results of the model, as compared to training the model with raw data. It involves:\n",
    "\n",
    "1. Data Cleaning:\n",
    "    - This is where the cleaning up null values, duplicates and outliers is done. \n",
    "\n",
    "\n",
    "2. Text Cleaning    \n",
    "    - With text data, it consists of cleaning the noise in the text data.\n",
    "\n",
    "\n",
    "3. Splitting the Data\n",
    "    - For reduce the computational power required to vectorize and balance the dataset, the features and labels will be separated. In addition, we will split the data to train and test sets, to train and tune our models\n",
    "\n",
    "\n",
    "4. Vectorize data:\n",
    "    - The additional features are derived from the existing features.\n",
    "\n",
    "\n",
    "5. Data Balancing\n",
    "    - This process involves reducing the volume of our data only keeping the features that are most relevant to the dataset.\n",
    "\n",
    "\n",
    "For our project we will perform all the steps highlighed above on the train_df. At the end of the section, we will have a training and testing dataset from the train_df, that we will use to build a model that predicts the sentiments"
   ]
  },
  {
   "cell_type": "markdown",
   "metadata": {},
   "source": [
    "### Data Cleaning\n",
    "\n",
    "As mentioned above data cleaning is the process of correcting the anomalies in the data. For this project, the anomalies detected in the train dataset were duplicates in the message column."
   ]
  },
  {
   "cell_type": "markdown",
   "metadata": {},
   "source": [
    "#### Dropping Duplicates"
   ]
  },
  {
   "cell_type": "markdown",
   "metadata": {},
   "source": [
    "In the EDA section, we noted that there were 1,590 duplicates. Retaining duplicates presents the risk of overfitting the Machine Learning model and giving conflicting data to the model.\n",
    "\n",
    "Overfitting refers to perfectly aligning the model to the training data. An overfitted model performs poorly on real world data, which is unseen.\n",
    "\n",
    "First, we recap on the number of duplicates per sentiment."
   ]
  },
  {
   "cell_type": "code",
   "execution_count": null,
   "metadata": {},
   "outputs": [],
   "source": [
    "dupli['sentiment'].value_counts()"
   ]
  },
  {
   "cell_type": "markdown",
   "metadata": {},
   "source": [
    "The Pro sentiments have the highest number of duplicates and the highest number of observations. Dropping all the duplicates, will reduce the imbalance in our dataset"
   ]
  },
  {
   "cell_type": "code",
   "execution_count": 5,
   "metadata": {},
   "outputs": [
    {
     "data": {
      "text/plain": [
       "Series([], Name: sentiment, dtype: int64)"
      ]
     },
     "execution_count": 5,
     "metadata": {},
     "output_type": "execute_result"
    }
   ],
   "source": [
    "#A00\n",
    "train_df = train_df.drop_duplicates('message', keep = 'first')\n",
    "clean_duplicated_values = train_df[train_df.duplicated(['message'])]\n",
    "clean_duplicated_values['sentiment'].value_counts()"
   ]
  },
  {
   "cell_type": "markdown",
   "metadata": {},
   "source": [
    "The resulting pandas series is empty, therefore the agenda has been achieved.\n",
    "\n",
    "\n",
    "Since our data contains no missing data, we can proceed to clean the text data"
   ]
  },
  {
   "cell_type": "markdown",
   "metadata": {},
   "source": [
    "### Text Cleaning"
   ]
  },
  {
   "cell_type": "markdown",
   "metadata": {},
   "source": [
    "Unstructured data is not organized in any pre-defined model. Eighty to ninety percent of the world's dat falls into this category. In it's raw form, it contains a mix of information that is both useful or irrelevant depending on its topic. The irrelevant information is referred to as noise. The process of removing noise form data is called garbage in and garbage out. \n",
    "\n",
    "For this sentiment classification model, we are interested in the text data that relates to climate change. The noise is in form of punctuations, emojis, stopwords, etc. \n",
    "\n",
    "To improve the quality of the data, we will clean the text by performing the following steps:\n",
    "\n",
    "1. Expand contractions\n",
    "    - Expands shortened words like don't to do not.\n",
    "    \n",
    "\n",
    "2. Replace urls\n",
    "    - After removing the punctuation and digits from a link, it becomes one text that decreases the ability to identify topics in the text. Hence we will replace the url's with 'url-web'.\n",
    "\n",
    "\n",
    "3. Remove digits and words containing digits\n",
    "    - For the topic at hand, we are seeking text data.\n",
    "\n",
    "\n",
    "4. Lower the message\n",
    "    - The model reads upper case, lower case and title case words are unique words even if they are the same word. We lower the message to reduce the features in the vectorizer.\n",
    "    \n",
    "\n",
    "5. Remove punctuation\n",
    "    - As mentioned in the Exploratory Data Analysis, punctuation is occurs frequently in text data and contributes to the noise. Therefore, we will remove the punctuations from the dataset.\n",
    "    \n",
    "\n",
    "6. Remove emojis\n",
    "    - Emojis are graphical features that are used to express emotions. While they are not frequently observed in most data, they do not provide crutial information to the data.\n",
    "    \n",
    "\n",
    "7. Lemmetazition\n",
    "    - This is the process of reducing a word to its root. It reduces plurals to singular form, adjectives to noun, etc. FOr example: jugs -> jug, chasing -> chase, sadness -> sad. etc.\n",
    "    \n",
    "    \n",
    "\n",
    "\n",
    "The stopwords are removed by the vectorizer. We will create functions to do the preprocessing below, test the function then apply it to our train dataframe."
   ]
  },
  {
   "cell_type": "markdown",
   "metadata": {},
   "source": [
    "#### Functions Declaration"
   ]
  },
  {
   "cell_type": "code",
   "execution_count": 9,
   "metadata": {},
   "outputs": [],
   "source": [
    "#A00\n",
    "'''The following functions will be used to\n",
    "    preprocess the train data'''\n",
    "\n",
    "   \n",
    "def preprocess(tweet):\n",
    "    \n",
    "    #remove urls\n",
    "    tweet = re.sub(\n",
    "        r'http[s]?://(?:[A-Za-z]|[0-9]|[$-_@.&+]|[!*\\(\\),]|(?:%[0-9A-Fa-f][0-9A-Fa-f]))+',\n",
    "        'url-web', tweet)\n",
    "    #remove digits and words with digits\n",
    "    tweet = re.sub('\\w*\\d\\w*','', tweet)\n",
    "    \n",
    "    #make text lowercase\n",
    "    tweet = tweet.lower() # lower case\n",
    "    \n",
    "    #expand contractions\n",
    "    tweet = contractions.fix(tweet)\n",
    "    \n",
    "    #remove punctuation\n",
    "    tweet = re.sub('[%s]' % re.escape(string.punctuation), '', tweet) # strip punctuation\n",
    "    \n",
    "    #remove emojis\n",
    "    tweet = emoji.replace_emoji(tweet, replace = '')\n",
    "    \n",
    "    #lemmatize the text\n",
    "    token_words = TreebankWordTokenizer().tokenize(tweet)\n",
    "    lemmatizer = WordNetLemmatizer()\n",
    "    lem_sentence=[]\n",
    "    for word in token_words:\n",
    "        #just lemmmatize\n",
    "        lem_word = lemmatizer.lemmatize(word)\n",
    "        lem_sentence.append(lem_word)\n",
    "        lem_sentence.append(\" \")\n",
    "    tweet = \"\".join(lem_sentence)\n",
    "    \n",
    "    return tweet\n",
    "\n"
   ]
  },
  {
   "cell_type": "markdown",
   "metadata": {},
   "source": [
    "_Testing out the pre-processor_"
   ]
  },
  {
   "cell_type": "code",
   "execution_count": null,
   "metadata": {},
   "outputs": [],
   "source": [
    "tweet = \"Never shan't I'm   think ?> https://scikit-learn.org/ 5689 @nuts wht's g9? 😃😃😄\"\n",
    "#tweet = re.sub('s+', ' ', tweet)\n",
    "preprocess(tweet)"
   ]
  },
  {
   "cell_type": "markdown",
   "metadata": {},
   "source": [
    "The pre-processor has successfully performed the following steps:\n",
    "- Remove digits and words with digits (g9)\n",
    "- Remove emojis (😃😃😄)\n",
    "- Remove punctuation (?>)\n",
    "- Replaced links (https://scikit-learn.org/)\n",
    "- Lowered text (Never -> never)\n",
    "- Expanded contractions (I'm -> i am)\n",
    "- Lemmatized the text (nuts - nut)\n",
    "\n",
    "We can now apply it to the message column to clean the tweets."
   ]
  },
  {
   "cell_type": "code",
   "execution_count": 10,
   "metadata": {},
   "outputs": [],
   "source": [
    "#A00\n",
    "train_df['message'] = train_df['message'].apply(lambda x: preprocess(x))"
   ]
  },
  {
   "cell_type": "markdown",
   "metadata": {},
   "source": [
    "This is has been completed. We move on to splitting the data in preparation for vectorization."
   ]
  },
  {
   "cell_type": "markdown",
   "metadata": {},
   "source": [
    "### Splitting the Data\n",
    "\n",
    "\n",
    "The data will first split into features and labels. The features will be used to model the label variable.\n"
   ]
  },
  {
   "cell_type": "code",
   "execution_count": 11,
   "metadata": {},
   "outputs": [
    {
     "data": {
      "text/html": [
       "<div>\n",
       "<style scoped>\n",
       "    .dataframe tbody tr th:only-of-type {\n",
       "        vertical-align: middle;\n",
       "    }\n",
       "\n",
       "    .dataframe tbody tr th {\n",
       "        vertical-align: top;\n",
       "    }\n",
       "\n",
       "    .dataframe thead th {\n",
       "        text-align: right;\n",
       "    }\n",
       "</style>\n",
       "<table border=\"1\" class=\"dataframe\">\n",
       "  <thead>\n",
       "    <tr style=\"text-align: right;\">\n",
       "      <th></th>\n",
       "      <th>message</th>\n",
       "    </tr>\n",
       "  </thead>\n",
       "  <tbody>\n",
       "    <tr>\n",
       "      <th>0</th>\n",
       "      <td>polyscimajor epa chief doe not think carbon di...</td>\n",
       "    </tr>\n",
       "    <tr>\n",
       "      <th>1</th>\n",
       "      <td>it is not like we lack evidence of anthropogen...</td>\n",
       "    </tr>\n",
       "    <tr>\n",
       "      <th>2</th>\n",
       "      <td>rt rawstory researcher say we have three year ...</td>\n",
       "    </tr>\n",
       "    <tr>\n",
       "      <th>3</th>\n",
       "      <td>todayinmaker wired wa a pivotal year in the wa...</td>\n",
       "    </tr>\n",
       "    <tr>\n",
       "      <th>4</th>\n",
       "      <td>rt soynoviodetodas it is and a racist sexist c...</td>\n",
       "    </tr>\n",
       "  </tbody>\n",
       "</table>\n",
       "</div>"
      ],
      "text/plain": [
       "                                             message\n",
       "0  polyscimajor epa chief doe not think carbon di...\n",
       "1  it is not like we lack evidence of anthropogen...\n",
       "2  rt rawstory researcher say we have three year ...\n",
       "3  todayinmaker wired wa a pivotal year in the wa...\n",
       "4  rt soynoviodetodas it is and a racist sexist c..."
      ]
     },
     "execution_count": 11,
     "metadata": {},
     "output_type": "execute_result"
    }
   ],
   "source": [
    "#A00\n",
    "X = train_df.drop(columns = ['tweetid', 'sentiment'], axis = 1)\n",
    "y = train_df['sentiment']\n",
    "X.reset_index(drop = True, inplace = True)\n",
    "X.head()"
   ]
  },
  {
   "cell_type": "markdown",
   "metadata": {},
   "source": [
    "The dataset has been separated successfully. The feature dataframe X, does not contain the label variable, 'sentiment'. We now split the X and y variables further."
   ]
  },
  {
   "cell_type": "markdown",
   "metadata": {},
   "source": [
    "#### Splitting the Train and Test Datasets"
   ]
  },
  {
   "cell_type": "markdown",
   "metadata": {},
   "source": [
    "The feature and label dataframes are split into train and test data pairs before modelling. The train pair is used by the model to learn to predict the target variable. The test pair, unseen data, is used to evaluate how well the model can predict the target variable."
   ]
  },
  {
   "cell_type": "code",
   "execution_count": 12,
   "metadata": {},
   "outputs": [],
   "source": [
    "#A00\n",
    "X_train, X_test, y_train, y_test = train_test_split(X, y,\n",
    "                        test_size=0.3)"
   ]
  },
  {
   "cell_type": "markdown",
   "metadata": {},
   "source": [
    "### Text Vectorization\n"
   ]
  },
  {
   "cell_type": "markdown",
   "metadata": {},
   "source": [
    "Text Vectorization is the process of turning text data to numerical data. The numerical figures are populated using the frequency of the text in the dataframe.\n",
    "\n",
    "For this classification problem, we will use the TFIDF vectorizer."
   ]
  },
  {
   "cell_type": "markdown",
   "metadata": {},
   "source": [
    "#### TFIDF Vectorizer\n",
    "\n",
    "In full TFIDF stands for Term Frequency Inverse Document Frequency. It measures how relevant a word is to the dataframe using two metrics:\n",
    "\n",
    "1. Term Frequency\n",
    "- Number of times a word appears in a row\n",
    "2. Inverse Document Frequency\n",
    "- How common a word is in the entire column. The closer this metric is to zero, the more common a word is.\n",
    "\n",
    "#####                                              TFIDF = Term Frequency x Inverse Document Frequency\n",
    "\n",
    "The higher the TFIDF score, the higher the relevance of the word to the dataset.\n",
    "\n",
    "We will create two vectorizers, one with the additional features created in the Exploratory Data Analysis section and one without the additional features."
   ]
  },
  {
   "cell_type": "code",
   "execution_count": 13,
   "metadata": {},
   "outputs": [],
   "source": [
    "#A00\n",
    "#Function to vectorize the message column\n",
    "tfidf_vectorizer = TfidfVectorizer(min_df=2, strip_accents = 'ascii', smooth_idf=False)"
   ]
  },
  {
   "cell_type": "markdown",
   "metadata": {},
   "source": [
    "##### TFIDF Vectorizer without Additional Features"
   ]
  },
  {
   "cell_type": "code",
   "execution_count": 14,
   "metadata": {},
   "outputs": [],
   "source": [
    "#A00\n",
    "text = X.message\n",
    "\n",
    "#fit the vectorizer with the message\n",
    "tfidf_vectorizer.fit(X_train['message'])\n",
    "\n",
    "#transform the X_train data\n",
    "tfidf_train = tfidf_vectorizer.transform(X_train['message'])\n",
    "\n",
    "#transform X_test data\n",
    "tfidf_test = tfidf_vectorizer.transform(X_test['message'])"
   ]
  },
  {
   "cell_type": "code",
   "execution_count": null,
   "metadata": {},
   "outputs": [],
   "source": []
  },
  {
   "cell_type": "markdown",
   "metadata": {},
   "source": [
    "tfidf_train and tfidf_test contain the tfidf values only. We will use this to test out the data"
   ]
  },
  {
   "cell_type": "markdown",
   "metadata": {},
   "source": [
    "##### TFIDF Vectorizer with Additional Features"
   ]
  },
  {
   "cell_type": "markdown",
   "metadata": {},
   "source": [
    "#convert the tfidf dfs to array\n",
    "tfidf_array = tfidf_train.toarray()\n",
    "test_tfidf_array = tfidf_test.toarray()\n",
    "\n",
    "#define new columns from get feature names\n",
    "new_cols = tfidf_vectorizer.get_feature_names_out()\n",
    "\n",
    "#drop the message column from X_train and X_test\n",
    "#resulting dfs only contains the additional features\n",
    "X_tftrain = X_train.drop(columns = ['message'], axis = 1)\n",
    "X_tftest = X_test.drop(columns = ['message'], axis = 1)\n",
    "\n",
    "#Join the tfidf array to the additional features\n",
    "tfidf_test_xfeat = X_tftest.join(pd.DataFrame(test_tfidf_array, columns = new_cols))\n",
    "\n",
    "tfidf_train_xfeat = X_tftrain.join(pd.DataFrame(tfidf_array, columns = new_cols))\n",
    "\n",
    "\n",
    "print('TF-IDF Vector Shape: \\t {}'.format(len(tfidf_vectorizer.get_feature_names_out())))"
   ]
  },
  {
   "cell_type": "markdown",
   "metadata": {},
   "source": [
    "tfidf_train_xfeat.isna().sum()"
   ]
  },
  {
   "cell_type": "markdown",
   "metadata": {},
   "source": [
    "Now we have two types of training and testing datasets:\n",
    "\n",
    "- Dataframes with TFIDF and additional features: _tfidf_test_xfeat, tfidf_train_xfeat_\n",
    "    \n",
    "- Sparse matrixes with TFIDF values only: _tfidf_train, tfidf_test_"
   ]
  },
  {
   "cell_type": "markdown",
   "metadata": {},
   "source": [
    "#### Visualizing Cleaned Text"
   ]
  },
  {
   "cell_type": "markdown",
   "metadata": {},
   "source": [
    "Let's group the data by sentiment"
   ]
  },
  {
   "cell_type": "code",
   "execution_count": null,
   "metadata": {},
   "outputs": [],
   "source": [
    "visual_df = train_df.drop(['tweetid', 'message', 'tweetid',\n",
    "                            'tweet_len', 'sent_count', 'word_count',\n",
    "                            'num_unique', 'num_stop_words',\n",
    "                            'num_punctuations', 'num_hashtags',\n",
    "                            'num_mentions', 'num_uppercase'], axis = 1)\n",
    "\n",
    "visual_df = visual_df.join(pd.DataFrame(tfidf_array, columns = new_cols))"
   ]
  },
  {
   "cell_type": "code",
   "execution_count": null,
   "metadata": {},
   "outputs": [],
   "source": [
    "visual_grouped = visual_df.groupby('sentiment').agg(sum)\n",
    "visual_grouped.head()"
   ]
  },
  {
   "cell_type": "code",
   "execution_count": null,
   "metadata": {},
   "outputs": [],
   "source": [
    "data = visual_grouped.transpose()\n",
    "data.head()"
   ]
  },
  {
   "cell_type": "code",
   "execution_count": null,
   "metadata": {},
   "outputs": [],
   "source": [
    "def black_color_func(word, font_size, position,orientation,random_state=None, **kwargs):\n",
    "    return(\"hsl(0,100%, 1%)\")\n",
    "# set the wordcloud background color to white\n",
    "# set max_words to 1000\n",
    "# set width and height to higher quality, 3000 x 2000\n",
    "stopwords = list(STOPWORDS)\n",
    "stopwords.append('climate')\n",
    "                              \n",
    "wordcloud = WordCloud(font_path = 'arial', \n",
    "                      background_color=\"white\", width=3000, \n",
    "                      height=2000, \n",
    "                      max_words=500, stopwords=stopwords).generate_from_frequencies(data[-1])\n",
    "# set the word color to black\n",
    "wordcloud.recolor(color_func = black_color_func)\n",
    "# set the figsize\n",
    "plt.figure(figsize=[20,6])\n",
    "# plot the wordcloud\n",
    "plt.imshow(wordcloud, interpolation=\"bilinear\")\n",
    "# remove plot axes\n",
    "plt.axis(\"off\")\n",
    "##include rt, https, climate change, global warming"
   ]
  },
  {
   "cell_type": "code",
   "execution_count": null,
   "metadata": {},
   "outputs": [],
   "source": [
    "wordcloud = WordCloud(font_path = 'arial', \n",
    "                      background_color=\"white\", width=3000, \n",
    "                      height=2000, \n",
    "                      max_words=500).generate_from_frequencies(data[0])\n",
    "# set the word color to black\n",
    "wordcloud.recolor(color_func = black_color_func)\n",
    "# set the figsize\n",
    "plt.figure(figsize=[20,6])\n",
    "# plot the wordcloud\n",
    "plt.imshow(wordcloud, interpolation=\"bilinear\")\n",
    "# remove plot axes\n",
    "plt.axis(\"off\")"
   ]
  },
  {
   "cell_type": "code",
   "execution_count": null,
   "metadata": {},
   "outputs": [],
   "source": [
    "wordcloud = WordCloud(font_path = 'arial', \n",
    "                      background_color=\"white\", width=3000, \n",
    "                      height=2000, \n",
    "                      max_words=500).generate_from_frequencies(data[1])\n",
    "# set the word color to black\n",
    "wordcloud.recolor(color_func = black_color_func)\n",
    "# set the figsize\n",
    "plt.figure(figsize=[20,6])\n",
    "# plot the wordcloud\n",
    "plt.imshow(wordcloud, interpolation=\"bilinear\")\n",
    "# remove plot axes\n",
    "plt.axis(\"off\")"
   ]
  },
  {
   "cell_type": "code",
   "execution_count": null,
   "metadata": {},
   "outputs": [],
   "source": [
    "wordcloud = WordCloud(font_path = 'arial', \n",
    "                      background_color=\"white\", width=3000, \n",
    "                      height=2000, \n",
    "                      max_words=500).generate_from_frequencies(data[2])\n",
    "# set the word color to black\n",
    "wordcloud.recolor(color_func = black_color_func)\n",
    "# set the figsize\n",
    "plt.figure(figsize=[20,6])\n",
    "# plot the wordcloud\n",
    "plt.imshow(wordcloud, interpolation=\"bilinear\")\n",
    "# remove plot axes\n",
    "plt.axis(\"off\")"
   ]
  },
  {
   "cell_type": "markdown",
   "metadata": {},
   "source": [
    "train_grouped"
   ]
  },
  {
   "cell_type": "markdown",
   "metadata": {},
   "source": [
    "### Balancing the Datasets"
   ]
  },
  {
   "cell_type": "code",
   "execution_count": null,
   "metadata": {},
   "outputs": [],
   "source": [
    "from imblearn.over_sampling import SMOTE\n",
    "sm = SMOTE(random_state = 2)\n",
    "X_train_bal, y_train_bal = sm.fit_resample(tfidf_train, y_train)"
   ]
  },
  {
   "cell_type": "code",
   "execution_count": null,
   "metadata": {},
   "outputs": [],
   "source": [
    "Undersampling"
   ]
  },
  {
   "cell_type": "code",
   "execution_count": null,
   "metadata": {},
   "outputs": [],
   "source": [
    "Different sampling"
   ]
  },
  {
   "cell_type": "markdown",
   "metadata": {},
   "source": [
    "Oversampling generates a Memory Error. Let us try undersampling instead"
   ]
  },
  {
   "cell_type": "markdown",
   "metadata": {},
   "source": []
  },
  {
   "cell_type": "markdown",
   "metadata": {},
   "source": [
    "### Optimizing our features - \n",
    "\n",
    "NB: code is not working in the process of fixing it"
   ]
  },
  {
   "cell_type": "markdown",
   "metadata": {},
   "source": [
    "pipeline = Pipeline([\n",
    "    ('tfidf', TfidfVectorizer(stop_words=stop_words)),\n",
    "    ('clf', BernoulliNB())])\n",
    "parameters = {\n",
    "    'tfidf__max_df': (0.25, 0.5, 0.75),\n",
    "    'tfidf__ngram_range': [(1, 1), (1, 2), (1, 3)],\n",
    "    'tfidf__min_df': (1, 2, 3),\n",
    "    'tfidf__strip_accents': ('ascii', 'unicode', None)\n",
    "}\n",
    "\n",
    "grid_search_tune = GridSearchCV(pipeline, parameters, cv=2, n_jobs=2, verbose=3)\n",
    "grid_search_tune.fit(X_train, y_train)\n",
    "\n",
    "print(\"Best parameters set:\")\n",
    "print (grid_search_tune.best_estimator_.steps)"
   ]
  },
  {
   "cell_type": "markdown",
   "metadata": {},
   "source": [
    "<a id=\"four\"></a>\n",
    "## 4. Modelling"
   ]
  },
  {
   "cell_type": "markdown",
   "metadata": {},
   "source": [
    "#### Function Declaration"
   ]
  },
  {
   "cell_type": "code",
   "execution_count": 15,
   "metadata": {},
   "outputs": [],
   "source": [
    "#A00\n",
    "def fit_eval_model(model,X_train, X_test):\n",
    "    # fit the model\n",
    "    model.fit(X_train, y_train)\n",
    "    # Predict values for Test dataset\n",
    "    y_pred = model.predict(X_test)\n",
    "    # Print the evaluation metrics for the dataset.\n",
    "    print(classification_report(y_test, y_pred))\n",
    "    # Compute and plot the Confusion matrix\n",
    "    cf_matrix = confusion_matrix(y_test, y_pred)\n",
    "    categories = ['Negative','Positive']\n",
    "    group_names = ['True Neg','False Pos', 'False Neg','True Pos']\n",
    "    group_percentages = ['{0:.2%}'.format(value) for value in cf_matrix.flatten() / np.sum(cf_matrix)]\n",
    "    labels = [f'{v1}' for v1 in group_percentages]\n",
    "    labels = np.asarray(labels).reshape(4,4)\n",
    "    # labels = [f'{v1}n{v2}' for v1, v2 in zip(group_names,group_percentages)]\n",
    "    # labels = np.asarray(labels).reshape(2,2)\n",
    "    print(labels)\n",
    "    print(group_percentages)\n",
    "    print(cf_matrix)\n",
    "    sns.heatmap(cf_matrix,\n",
    "                annot = labels,\n",
    "                cmap = 'Blues',fmt = '',\n",
    "                xticklabels = categories,\n",
    "                yticklabels = categories)\n",
    "    # plt.xlabel(\"Predicted values\", fontdict = {'size':14}, labelpad = 10)\n",
    "    # plt.ylabel(\"Actual values\" , fontdict = {'size':14}, labelpad = 10)\n",
    "    # plt.title (\"Confusion Matrix\", fontdict = {'size':18}, pad = 20)"
   ]
  },
  {
   "cell_type": "markdown",
   "metadata": {},
   "source": [
    "### Bernoulli Naive Bayes"
   ]
  },
  {
   "cell_type": "markdown",
   "metadata": {},
   "source": []
  },
  {
   "cell_type": "markdown",
   "metadata": {},
   "source": [
    "#### Model Development"
   ]
  },
  {
   "cell_type": "code",
   "execution_count": 16,
   "metadata": {},
   "outputs": [
    {
     "name": "stdout",
     "output_type": "stream",
     "text": [
      "              precision    recall  f1-score   support\n",
      "\n",
      "          -1       0.85      0.21      0.33       374\n",
      "           0       0.48      0.43      0.45       670\n",
      "           1       0.71      0.79      0.75      2143\n",
      "           2       0.72      0.80      0.76      1082\n",
      "\n",
      "    accuracy                           0.69      4269\n",
      "   macro avg       0.69      0.56      0.57      4269\n",
      "weighted avg       0.69      0.69      0.67      4269\n",
      "\n",
      "[['1.83%' '2.11%' '4.19%' '0.63%']\n",
      " ['0.14%' '6.68%' '7.40%' '1.48%']\n",
      " ['0.19%' '4.38%' '39.87%' '5.76%']\n",
      " ['0.00%' '0.66%' '4.33%' '20.36%']]\n",
      "['1.83%', '2.11%', '4.19%', '0.63%', '0.14%', '6.68%', '7.40%', '1.48%', '0.19%', '4.38%', '39.87%', '5.76%', '0.00%', '0.66%', '4.33%', '20.36%']\n",
      "[[  78   90  179   27]\n",
      " [   6  285  316   63]\n",
      " [   8  187 1702  246]\n",
      " [   0   28  185  869]]\n"
     ]
    },
    {
     "data": {
      "image/png": "[encoded data removed]",
      "text/plain": [
       "<Figure size 432x288 with 2 Axes>"
      ]
     },
     "metadata": {},
     "output_type": "display_data"
    }
   ],
   "source": [
    "#A00\n",
    "BNBModel = BernoulliNB()\n",
    "fit_eval_model(BNBModel, tfidf_train, tfidf_test)"
   ]
  },
  {
   "cell_type": "markdown",
   "metadata": {},
   "source": [
    "#### Model Performance Metrics"
   ]
  },
  {
   "cell_type": "code",
   "execution_count": null,
   "metadata": {},
   "outputs": [],
   "source": [
    "BNB_comet = BernoulliNB()\n",
    "BNB_comet.fit(X_train,y_train)\n",
    "y_pred = BNB_comet.predict(X_test)"
   ]
  },
  {
   "cell_type": "markdown",
   "metadata": {},
   "source": [
    "#### Test Dataset Prediction Metrics"
   ]
  },
  {
   "cell_type": "code",
   "execution_count": null,
   "metadata": {},
   "outputs": [],
   "source": [
    "BNBModel = BernoulliNB()\n",
    "fit_eval_model(BNBModel, X_train, X_test)"
   ]
  },
  {
   "cell_type": "markdown",
   "metadata": {},
   "source": [
    "### Multinomial Naive Bayes"
   ]
  },
  {
   "cell_type": "code",
   "execution_count": 17,
   "metadata": {},
   "outputs": [
    {
     "name": "stdout",
     "output_type": "stream",
     "text": [
      "              precision    recall  f1-score   support\n",
      "\n",
      "          -1       0.93      0.03      0.07       374\n",
      "           0       0.78      0.05      0.10       670\n",
      "           1       0.59      0.97      0.74      2143\n",
      "           2       0.86      0.56      0.68      1082\n",
      "\n",
      "    accuracy                           0.64      4269\n",
      "   macro avg       0.79      0.40      0.39      4269\n",
      "weighted avg       0.72      0.64      0.56      4269\n",
      "\n",
      "[['0.30%' '0.12%' '7.96%' '0.37%']\n",
      " ['0.02%' '0.82%' '14.36%' '0.49%']\n",
      " ['0.00%' '0.09%' '48.75%' '1.36%']\n",
      " ['0.00%' '0.02%' '11.20%' '14.13%']]\n",
      "['0.30%', '0.12%', '7.96%', '0.37%', '0.02%', '0.82%', '14.36%', '0.49%', '0.00%', '0.09%', '48.75%', '1.36%', '0.00%', '0.02%', '11.20%', '14.13%']\n",
      "[[  13    5  340   16]\n",
      " [   1   35  613   21]\n",
      " [   0    4 2081   58]\n",
      " [   0    1  478  603]]\n"
     ]
    },
    {
     "data": {
      "image/png": "[encoded data removed]",
      "text/plain": [
       "<Figure size 432x288 with 2 Axes>"
      ]
     },
     "metadata": {},
     "output_type": "display_data"
    }
   ],
   "source": [
    "#A00\n",
    "\n",
    "mb = MultinomialNB()\n",
    "fit_eval_model(mb, tfidf_train, tfidf_test)"
   ]
  },
  {
   "cell_type": "markdown",
   "metadata": {},
   "source": [
    "### Logistic Regression"
   ]
  },
  {
   "cell_type": "code",
   "execution_count": 18,
   "metadata": {},
   "outputs": [
    {
     "name": "stdout",
     "output_type": "stream",
     "text": [
      "              precision    recall  f1-score   support\n",
      "\n",
      "          -1       0.73      0.35      0.47       374\n",
      "           0       0.62      0.39      0.48       670\n",
      "           1       0.72      0.87      0.79      2143\n",
      "           2       0.78      0.77      0.77      1082\n",
      "\n",
      "    accuracy                           0.72      4269\n",
      "   macro avg       0.71      0.59      0.63      4269\n",
      "weighted avg       0.72      0.72      0.71      4269\n",
      "\n",
      "[['3.05%' '1.08%' '4.15%' '0.49%']\n",
      " ['0.61%' '6.09%' '7.66%' '1.34%']\n",
      " ['0.47%' '2.25%' '43.76%' '3.72%']\n",
      " ['0.07%' '0.35%' '5.41%' '19.51%']]\n",
      "['3.05%', '1.08%', '4.15%', '0.49%', '0.61%', '6.09%', '7.66%', '1.34%', '0.47%', '2.25%', '43.76%', '3.72%', '0.07%', '0.35%', '5.41%', '19.51%']\n",
      "[[ 130   46  177   21]\n",
      " [  26  260  327   57]\n",
      " [  20   96 1868  159]\n",
      " [   3   15  231  833]]\n"
     ]
    },
    {
     "data": {
      "image/png": "[encoded data removed]",
      "text/plain": [
       "<Figure size 432x288 with 2 Axes>"
      ]
     },
     "metadata": {},
     "output_type": "display_data"
    }
   ],
   "source": [
    "#A00\n",
    "lr = LogisticRegression(C=2, max_iter=1000, n_jobs=-1)\n",
    "fit_eval_model(lr, tfidf_train, tfidf_test)"
   ]
  },
  {
   "cell_type": "markdown",
   "metadata": {},
   "source": [
    "### SVC"
   ]
  },
  {
   "cell_type": "code",
   "execution_count": 19,
   "metadata": {},
   "outputs": [
    {
     "name": "stdout",
     "output_type": "stream",
     "text": [
      "              precision    recall  f1-score   support\n",
      "\n",
      "          -1       0.90      0.23      0.37       374\n",
      "           0       0.75      0.24      0.36       670\n",
      "           1       0.67      0.91      0.77      2143\n",
      "           2       0.79      0.75      0.77      1082\n",
      "\n",
      "    accuracy                           0.70      4269\n",
      "   macro avg       0.78      0.53      0.57      4269\n",
      "weighted avg       0.73      0.70      0.67      4269\n",
      "\n",
      "[['2.01%' '0.33%' '6.04%' '0.37%']\n",
      " ['0.14%' '3.75%' '10.63%' '1.17%']\n",
      " ['0.09%' '0.80%' '45.72%' '3.58%']\n",
      " ['0.00%' '0.12%' '6.23%' '19.00%']]\n",
      "['2.01%', '0.33%', '6.04%', '0.37%', '0.14%', '3.75%', '10.63%', '1.17%', '0.09%', '0.80%', '45.72%', '3.58%', '0.00%', '0.12%', '6.23%', '19.00%']\n",
      "[[  86   14  258   16]\n",
      " [   6  160  454   50]\n",
      " [   4   34 1952  153]\n",
      " [   0    5  266  811]]\n"
     ]
    },
    {
     "data": {
      "image/png": "[encoded data removed]",
      "text/plain": [
       "<Figure size 432x288 with 2 Axes>"
      ]
     },
     "metadata": {},
     "output_type": "display_data"
    }
   ],
   "source": [
    "#A00\n",
    "svc = SVC(kernel='rbf')\n",
    "fit_eval_model(svc, tfidf_train, tfidf_test)"
   ]
  },
  {
   "cell_type": "markdown",
   "metadata": {},
   "source": [
    "### Random Forest"
   ]
  },
  {
   "cell_type": "code",
   "execution_count": 20,
   "metadata": {},
   "outputs": [
    {
     "name": "stdout",
     "output_type": "stream",
     "text": [
      "              precision    recall  f1-score   support\n",
      "\n",
      "          -1       0.84      0.14      0.24       374\n",
      "           0       0.62      0.27      0.38       670\n",
      "           1       0.65      0.89      0.75      2143\n",
      "           2       0.77      0.70      0.73      1082\n",
      "\n",
      "    accuracy                           0.68      4269\n",
      "   macro avg       0.72      0.50      0.53      4269\n",
      "weighted avg       0.69      0.68      0.64      4269\n",
      "\n",
      "[['1.24%' '0.80%' '6.30%' '0.42%']\n",
      " ['0.14%' '4.29%' '10.35%' '0.91%']\n",
      " ['0.02%' '1.57%' '44.79%' '3.82%']\n",
      " ['0.07%' '0.26%' '7.33%' '17.69%']]\n",
      "['1.24%', '0.80%', '6.30%', '0.42%', '0.14%', '4.29%', '10.35%', '0.91%', '0.02%', '1.57%', '44.79%', '3.82%', '0.07%', '0.26%', '7.33%', '17.69%']\n",
      "[[  53   34  269   18]\n",
      " [   6  183  442   39]\n",
      " [   1   67 1912  163]\n",
      " [   3   11  313  755]]\n"
     ]
    },
    {
     "data": {
      "image/png": "[encoded data removed]",
      "text/plain": [
       "<Figure size 432x288 with 2 Axes>"
      ]
     },
     "metadata": {},
     "output_type": "display_data"
    }
   ],
   "source": [
    "#A00\n",
    "forest = RandomForestClassifier(n_estimators=50, max_features='sqrt', max_depth=200, bootstrap=False, random_state=42)\n",
    "fit_eval_model(forest, tfidf_train, tfidf_test)"
   ]
  },
  {
   "cell_type": "markdown",
   "metadata": {},
   "source": [
    "### Model Performance Comparison"
   ]
  },
  {
   "cell_type": "markdown",
   "metadata": {},
   "source": [
    "### Hyperparameter Tuning (GridSearchCV)"
   ]
  },
  {
   "cell_type": "code",
   "execution_count": 21,
   "metadata": {},
   "outputs": [
    {
     "ename": "ValueError",
     "evalue": "Solver newton-cg supports only 'l2' or 'none' penalties, got l1 penalty.",
     "output_type": "error",
     "traceback": [
      "\u001b[1;31m---------------------------------------------------------------------------\u001b[0m",
      "\u001b[1;31mValueError\u001b[0m                                Traceback (most recent call last)",
      "\u001b[1;32m<ipython-input-21-5d8279772533>\u001b[0m in \u001b[0;36m<module>\u001b[1;34m\u001b[0m\n\u001b[0;32m     14\u001b[0m                    cv=10)\n\u001b[0;32m     15\u001b[0m \u001b[1;33m\u001b[0m\u001b[0m\n\u001b[1;32m---> 16\u001b[1;33m \u001b[0mclf\u001b[0m\u001b[1;33m.\u001b[0m\u001b[0mfit\u001b[0m\u001b[1;33m(\u001b[0m\u001b[0mX_train\u001b[0m\u001b[1;33m,\u001b[0m\u001b[0my_train\u001b[0m\u001b[1;33m)\u001b[0m\u001b[1;33m\u001b[0m\u001b[1;33m\u001b[0m\u001b[0m\n\u001b[0m\u001b[0;32m     17\u001b[0m \u001b[1;33m\u001b[0m\u001b[0m\n\u001b[0;32m     18\u001b[0m \u001b[0mprint\u001b[0m\u001b[1;33m(\u001b[0m\u001b[1;34m\"Tuned Hyperparameters :\"\u001b[0m\u001b[1;33m,\u001b[0m \u001b[0mclf\u001b[0m\u001b[1;33m.\u001b[0m\u001b[0mbest_params_\u001b[0m\u001b[1;33m)\u001b[0m\u001b[1;33m\u001b[0m\u001b[1;33m\u001b[0m\u001b[0m\n",
      "\u001b[1;32m~\\SeraApps\\anaconda\\lib\\site-packages\\sklearn\\model_selection\\_search.py\u001b[0m in \u001b[0;36mfit\u001b[1;34m(self, X, y, groups, **fit_params)\u001b[0m\n\u001b[0;32m    924\u001b[0m             \u001b[0mrefit_start_time\u001b[0m \u001b[1;33m=\u001b[0m \u001b[0mtime\u001b[0m\u001b[1;33m.\u001b[0m\u001b[0mtime\u001b[0m\u001b[1;33m(\u001b[0m\u001b[1;33m)\u001b[0m\u001b[1;33m\u001b[0m\u001b[1;33m\u001b[0m\u001b[0m\n\u001b[0;32m    925\u001b[0m             \u001b[1;32mif\u001b[0m \u001b[0my\u001b[0m \u001b[1;32mis\u001b[0m \u001b[1;32mnot\u001b[0m \u001b[1;32mNone\u001b[0m\u001b[1;33m:\u001b[0m\u001b[1;33m\u001b[0m\u001b[1;33m\u001b[0m\u001b[0m\n\u001b[1;32m--> 926\u001b[1;33m                 \u001b[0mself\u001b[0m\u001b[1;33m.\u001b[0m\u001b[0mbest_estimator_\u001b[0m\u001b[1;33m.\u001b[0m\u001b[0mfit\u001b[0m\u001b[1;33m(\u001b[0m\u001b[0mX\u001b[0m\u001b[1;33m,\u001b[0m \u001b[0my\u001b[0m\u001b[1;33m,\u001b[0m \u001b[1;33m**\u001b[0m\u001b[0mfit_params\u001b[0m\u001b[1;33m)\u001b[0m\u001b[1;33m\u001b[0m\u001b[1;33m\u001b[0m\u001b[0m\n\u001b[0m\u001b[0;32m    927\u001b[0m             \u001b[1;32melse\u001b[0m\u001b[1;33m:\u001b[0m\u001b[1;33m\u001b[0m\u001b[1;33m\u001b[0m\u001b[0m\n\u001b[0;32m    928\u001b[0m                 \u001b[0mself\u001b[0m\u001b[1;33m.\u001b[0m\u001b[0mbest_estimator_\u001b[0m\u001b[1;33m.\u001b[0m\u001b[0mfit\u001b[0m\u001b[1;33m(\u001b[0m\u001b[0mX\u001b[0m\u001b[1;33m,\u001b[0m \u001b[1;33m**\u001b[0m\u001b[0mfit_params\u001b[0m\u001b[1;33m)\u001b[0m\u001b[1;33m\u001b[0m\u001b[1;33m\u001b[0m\u001b[0m\n",
      "\u001b[1;32m~\\SeraApps\\anaconda\\lib\\site-packages\\sklearn\\linear_model\\_logistic.py\u001b[0m in \u001b[0;36mfit\u001b[1;34m(self, X, y, sample_weight)\u001b[0m\n\u001b[0;32m   1459\u001b[0m         \u001b[0mThe\u001b[0m \u001b[0mSAGA\u001b[0m \u001b[0msolver\u001b[0m \u001b[0msupports\u001b[0m \u001b[0mboth\u001b[0m \u001b[0mfloat64\u001b[0m \u001b[1;32mand\u001b[0m \u001b[0mfloat32\u001b[0m \u001b[0mbit\u001b[0m \u001b[0marrays\u001b[0m\u001b[1;33m.\u001b[0m\u001b[1;33m\u001b[0m\u001b[1;33m\u001b[0m\u001b[0m\n\u001b[0;32m   1460\u001b[0m         \"\"\"\n\u001b[1;32m-> 1461\u001b[1;33m         \u001b[0msolver\u001b[0m \u001b[1;33m=\u001b[0m \u001b[0m_check_solver\u001b[0m\u001b[1;33m(\u001b[0m\u001b[0mself\u001b[0m\u001b[1;33m.\u001b[0m\u001b[0msolver\u001b[0m\u001b[1;33m,\u001b[0m \u001b[0mself\u001b[0m\u001b[1;33m.\u001b[0m\u001b[0mpenalty\u001b[0m\u001b[1;33m,\u001b[0m \u001b[0mself\u001b[0m\u001b[1;33m.\u001b[0m\u001b[0mdual\u001b[0m\u001b[1;33m)\u001b[0m\u001b[1;33m\u001b[0m\u001b[1;33m\u001b[0m\u001b[0m\n\u001b[0m\u001b[0;32m   1462\u001b[0m \u001b[1;33m\u001b[0m\u001b[0m\n\u001b[0;32m   1463\u001b[0m         \u001b[1;32mif\u001b[0m \u001b[1;32mnot\u001b[0m \u001b[0misinstance\u001b[0m\u001b[1;33m(\u001b[0m\u001b[0mself\u001b[0m\u001b[1;33m.\u001b[0m\u001b[0mC\u001b[0m\u001b[1;33m,\u001b[0m \u001b[0mnumbers\u001b[0m\u001b[1;33m.\u001b[0m\u001b[0mNumber\u001b[0m\u001b[1;33m)\u001b[0m \u001b[1;32mor\u001b[0m \u001b[0mself\u001b[0m\u001b[1;33m.\u001b[0m\u001b[0mC\u001b[0m \u001b[1;33m<\u001b[0m \u001b[1;36m0\u001b[0m\u001b[1;33m:\u001b[0m\u001b[1;33m\u001b[0m\u001b[1;33m\u001b[0m\u001b[0m\n",
      "\u001b[1;32m~\\SeraApps\\anaconda\\lib\\site-packages\\sklearn\\linear_model\\_logistic.py\u001b[0m in \u001b[0;36m_check_solver\u001b[1;34m(solver, penalty, dual)\u001b[0m\n\u001b[0;32m    445\u001b[0m \u001b[1;33m\u001b[0m\u001b[0m\n\u001b[0;32m    446\u001b[0m     \u001b[1;32mif\u001b[0m \u001b[0msolver\u001b[0m \u001b[1;32mnot\u001b[0m \u001b[1;32min\u001b[0m \u001b[1;33m[\u001b[0m\u001b[1;34m\"liblinear\"\u001b[0m\u001b[1;33m,\u001b[0m \u001b[1;34m\"saga\"\u001b[0m\u001b[1;33m]\u001b[0m \u001b[1;32mand\u001b[0m \u001b[0mpenalty\u001b[0m \u001b[1;32mnot\u001b[0m \u001b[1;32min\u001b[0m \u001b[1;33m(\u001b[0m\u001b[1;34m\"l2\"\u001b[0m\u001b[1;33m,\u001b[0m \u001b[1;34m\"none\"\u001b[0m\u001b[1;33m)\u001b[0m\u001b[1;33m:\u001b[0m\u001b[1;33m\u001b[0m\u001b[1;33m\u001b[0m\u001b[0m\n\u001b[1;32m--> 447\u001b[1;33m         raise ValueError(\n\u001b[0m\u001b[0;32m    448\u001b[0m             \u001b[1;34m\"Solver %s supports only 'l2' or 'none' penalties, got %s penalty.\"\u001b[0m\u001b[1;33m\u001b[0m\u001b[1;33m\u001b[0m\u001b[0m\n\u001b[0;32m    449\u001b[0m             \u001b[1;33m%\u001b[0m \u001b[1;33m(\u001b[0m\u001b[0msolver\u001b[0m\u001b[1;33m,\u001b[0m \u001b[0mpenalty\u001b[0m\u001b[1;33m)\u001b[0m\u001b[1;33m\u001b[0m\u001b[1;33m\u001b[0m\u001b[0m\n",
      "\u001b[1;31mValueError\u001b[0m: Solver newton-cg supports only 'l2' or 'none' penalties, got l1 penalty."
     ]
    }
   ],
   "source": [
    "#A00\n",
    "import warnings\n",
    "warnings.filterwarnings('ignore')\n",
    "\n",
    "parameters = {\n",
    "    'penalty' : ['l1','l2'], \n",
    "    'C'       : np.logspace(-3,3,7),\n",
    "    'solver'  : ['newton-cg', 'lbfgs', 'liblinear'],\n",
    "}\n",
    "\n",
    "logreg = LogisticRegression()\n",
    "clf = GridSearchCV(logreg,                    \n",
    "                   param_grid = parameters,   \n",
    "                   scoring='accuracy',        \n",
    "                   cv=10)\n",
    "\n",
    "clf.fit(tfidf_train ,y_train)\n",
    "\n",
    "print(\"Tuned Hyperparameters :\", clf.best_params_)\n",
    "print(\"Accuracy :\",clf.best_score_)"
   ]
  },
  {
   "cell_type": "markdown",
   "metadata": {},
   "source": [
    "#### Model Development on Comet"
   ]
  },
  {
   "cell_type": "code",
   "execution_count": null,
   "metadata": {},
   "outputs": [],
   "source": [
    "BNB_comet = BernoulliNB()\n",
    "BNB_comet.fit(X_train,y_train)\n",
    "y_pred = BNB_comet.predict(X_test)"
   ]
  },
  {
   "cell_type": "code",
   "execution_count": null,
   "metadata": {},
   "outputs": [],
   "source": [
    "f1 = f1_score(y_test, y_pred, average = 'weighted')\n",
    "precision = precision_score(y_test, y_pred, average = 'weighted', zero_division = 1)\n",
    "recall = recall_score(y_test, y_pred, average = 'weighted')\n",
    "confusion = confusion_matrix(y_test, y_pred)\n",
    "confusion"
   ]
  },
  {
   "cell_type": "code",
   "execution_count": null,
   "metadata": {},
   "outputs": [],
   "source": [
    "params = {\"test_size\": 0.3,\n",
    "          \"model_type\": \"Bernoulli-Naive_Bayes\",\n",
    "          \"vectorizer\": \"tfidf vectorizer\",\n",
    "          \"param_grid\": \"None\" ,\n",
    "          \"stratify\": True\n",
    "          }\n",
    "metrics = {\"f1 score\": f1,\n",
    "           \"recall matrix\": recall,\n",
    "           \"precision matrix\": precision,\n",
    "           'confusion matrix': confusion\n",
    "           }\n",
    "experiment_name = 'Bernoulli Naive Bayes Feature Engineering'"
   ]
  },
  {
   "cell_type": "code",
   "execution_count": null,
   "metadata": {},
   "outputs": [],
   "source": [
    "experiment.set_name(experiment_name)\n",
    "experiment.log_parameters(params)\n",
    "experiment.log_metrics(metrics)"
   ]
  },
  {
   "cell_type": "code",
   "execution_count": null,
   "metadata": {},
   "outputs": [],
   "source": [
    "experiment.end()"
   ]
  },
  {
   "cell_type": "markdown",
   "metadata": {},
   "source": [
    "<a id=\"five\"></a>\n",
    "## 5. Model Explanation"
   ]
  },
  {
   "cell_type": "markdown",
   "metadata": {},
   "source": []
  },
  {
   "cell_type": "markdown",
   "metadata": {},
   "source": [
    "<a id=\"six\"></a>\n",
    "## 6. Conclusion"
   ]
  },
  {
   "cell_type": "markdown",
   "metadata": {},
   "source": []
  },
  {
   "cell_type": "markdown",
   "metadata": {},
   "source": []
  },
  {
   "cell_type": "markdown",
   "metadata": {},
   "source": [
    "<a id=\"seven\"></a>\n",
    "## 7. Appendix"
   ]
  },
  {
   "cell_type": "markdown",
   "metadata": {},
   "source": [
    "### Kaggle Submission"
   ]
  },
  {
   "cell_type": "markdown",
   "metadata": {},
   "source": [
    "#### Functions Declaration"
   ]
  },
  {
   "cell_type": "code",
   "execution_count": 25,
   "metadata": {},
   "outputs": [],
   "source": [
    "#feed in preprocessing\n",
    "#A00\n",
    "def clean_vector(df):\n",
    "    \n",
    "    def test_preprocess(tweet):\n",
    "\n",
    "        #remove urls\n",
    "        tweet = re.sub(\n",
    "                r'http[s]?://(?:[A-Za-z]|[0-9]|[$-_@.&+]|[!*\\(\\),]|(?:%[0-9A-Fa-f][0-9A-Fa-f]))+',\n",
    "                'url-web', tweet)\n",
    "        #remove digits and words with digits\n",
    "        tweet = re.sub('\\w*\\d\\w*','', tweet)\n",
    "\n",
    "        #make text lowercase\n",
    "        tweet = tweet.lower() # lower case\n",
    "\n",
    "        #expand contractions\n",
    "        tweet = contractions.fix(tweet)\n",
    "\n",
    "        #remove punctuation\n",
    "        tweet = re.sub('[%s]' % re.escape(string.punctuation), '', tweet) # strip punctuation\n",
    "\n",
    "        #remove emojis\n",
    "        tweet = emoji.replace_emoji(tweet, replace = '')\n",
    "\n",
    "        #lemmatize the text\n",
    "        token_words = TreebankWordTokenizer().tokenize(tweet)\n",
    "        lemmatizer = WordNetLemmatizer()\n",
    "        lem_sentence=[]\n",
    "        for word in token_words:\n",
    "            #just lemmmatize\n",
    "            lem_word = lemmatizer.lemmatize(word)\n",
    "            lem_sentence.append(lem_word)\n",
    "            lem_sentence.append(\" \")\n",
    "        tweet = \"\".join(lem_sentence)\n",
    "    \n",
    "        return tweet\n",
    "    df['message'] = df['message'].apply(lambda x: test_preprocess(x))\n",
    "    test_X = tfidf_vectorizer.transform(df['message'])\n",
    "    return test_X\n",
    "\n",
    "\n",
    "def clean_vector_feat(df):\n",
    "    \n",
    "    def test_preprocess(tweet):\n",
    "\n",
    "        #remove urls\n",
    "        tweet = re.sub(\n",
    "                r'http[s]?://(?:[A-Za-z]|[0-9]|[$-_@.&+]|[!*\\(\\),]|(?:%[0-9A-Fa-f][0-9A-Fa-f]))+',\n",
    "                'url-web', tweet)\n",
    "        #remove digits and words with digits\n",
    "        tweet = re.sub('\\w*\\d\\w*','', tweet)\n",
    "\n",
    "        #make text lowercase\n",
    "        tweet = tweet.lower() # lower case\n",
    "\n",
    "        #expand contractions\n",
    "        tweet = contractions.fix(tweet)\n",
    "\n",
    "        #remove punctuation\n",
    "        tweet = re.sub('[%s]' % re.escape(string.punctuation), '', tweet) # strip punctuation\n",
    "\n",
    "        #remove emojis\n",
    "        tweet = emoji.replace_emoji(tweet, replace = '')\n",
    "\n",
    "        #lemmatize the text\n",
    "        token_words = TreebankWordTokenizer().tokenize(tweet)\n",
    "        lem_sentence=[]\n",
    "        for word in token_words:\n",
    "            #just lemmmatize\n",
    "            lem_word = lemmatizer.lemmatize(word)\n",
    "            lem_sentence.append(lem_word)\n",
    "            lem_sentence.append(\" \")\n",
    "        tweet = \"\".join(lem_sentence)\n",
    "    \n",
    "        return tweet\n",
    "    stop_words = set(stopwords.words('english'))\n",
    "    df['tweet_len'] = df['message'].astype(str).apply(len)\n",
    "    df['word_count'] = df[\"message\"].apply(lambda x: len(re.findall(r'\\w+', x)))\n",
    "    df['num_stop_words'] = df['message'].str.split().apply(lambda x: len(set(x) & stop_words))\n",
    "    df['num_punctuations'] = df[\"message\"].apply(lambda x: len(re.findall(r'[!\"\\$%&\\'()*+,\\-.\\/:;=#@?\\[\\\\\\]^_`{|}~]*', \n",
    "                        x)))\n",
    "    df['num_hashtags'] = df[\"message\"].apply(lambda x: len(re.findall(r'#(\\w+)', x)))\n",
    "    df['num_mentions'] = df[\"message\"].apply(lambda x: len(re.findall(r'@(\\w+)', x)))\n",
    "    df['num_uppercase'] = df[\"message\"].apply(lambda x:sum(map(str.isupper,x.split())))\n",
    "    df['message'] = df['message'].apply(lambda x: test_preprocess(x))\n",
    "    test_vector = tfidf_vectorizer.transform(df['message'])\n",
    "    #convert the tfidf dfs to array\n",
    "    test_array = test_vector.toarray()\n",
    "\n",
    "    #define new columns from get feature names\n",
    "    new_cols = tfidf_vectorizer.get_feature_names_out()\n",
    "\n",
    "    #drop the message column from test df\n",
    "    #resulting dfs only contains the additional features\n",
    "    test_tfidf = df.drop(columns = ['message', 'tweetid'], axis = 1)\n",
    "    \n",
    "    #Join the tfidf array to the additional features\n",
    "    test_vect_feat = test_tfidf.join(pd.DataFrame(test_array, columns = new_cols))\n",
    "  \n",
    "    return test_vect_feat"
   ]
  },
  {
   "cell_type": "markdown",
   "metadata": {},
   "source": [
    "#### Submission Metrics"
   ]
  },
  {
   "cell_type": "code",
   "execution_count": 27,
   "metadata": {},
   "outputs": [],
   "source": [
    "#A00\n",
    "\n",
    "def submission(model, df):\n",
    "    X = clean_vector(df)\n",
    "    pred = model.predict(X)\n",
    "    sub_id = df['tweetid'].to_list()\n",
    "    sub_pred = pred.tolist()\n",
    "    list_of_tuples = list(zip(sub_id, sub_pred))\n",
    "    submission_df = pd.DataFrame(list_of_tuples,\n",
    "                  columns = ['tweetid', 'sentiment'])\n",
    "    submission_df.set_index('tweetid', inplace=True)\n",
    "    return submission_df"
   ]
  },
  {
   "cell_type": "code",
   "execution_count": 31,
   "metadata": {},
   "outputs": [],
   "source": [
    "#A00\n",
    "submit_df = submission(BNBModel, test_df)"
   ]
  },
  {
   "cell_type": "code",
   "execution_count": null,
   "metadata": {},
   "outputs": [],
   "source": [
    "#A00\n",
    "submit_df.to_csv('290322_Lemmatized_stemmd_Vectorizer_Submission.csv')"
   ]
  },
  {
   "cell_type": "markdown",
   "metadata": {},
   "source": [
    "submission_df.to_csv('280322_Cleaned_Vectorizer_Submission.csv') #score of 0.700"
   ]
  },
  {
   "cell_type": "markdown",
   "metadata": {},
   "source": [
    "submission_df.to_csv('290322_Lemmatized_stemmd_Vectorizer_Submission.csv') #score of 0.68"
   ]
  },
  {
   "cell_type": "markdown",
   "metadata": {},
   "source": [
    "submission_df.to_csv('050422_Streamlined_Vectorizer_Submission.csv') #score of 0.65"
   ]
  },
  {
   "cell_type": "markdown",
   "metadata": {},
   "source": []
  }
 ],
 "metadata": {
  "interpreter": {
   "hash": "3725e8a8d1f2963f289da824bca102df5afc3c109908f193a09de07b132ed76c"
  },
  "kernelspec": {
   "display_name": "Python 3",
   "language": "python",
   "name": "python3"
  },
  "language_info": {
   "codemirror_mode": {
    "name": "ipython",
    "version": 3
   },
   "file_extension": ".py",
   "mimetype": "text/x-python",
   "name": "python",
   "nbconvert_exporter": "python",
   "pygments_lexer": "ipython3",
   "version": "3.8.8"
  }
 },
 "nbformat": 4,
 "nbformat_minor": 2
}
