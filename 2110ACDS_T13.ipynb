{
 "cells": [
  {
   "cell_type": "code",
   "execution_count": 1,
   "metadata": {},
   "outputs": [],
   "source": [
    "#Libraries for Model Visualization\n",
    "from comet_ml import Experiment"
   ]
  },
  {
   "cell_type": "code",
   "execution_count": 2,
   "metadata": {},
   "outputs": [
    {
     "name": "stderr",
     "output_type": "stream",
     "text": [
      "COMET WARNING: As you are running in a Jupyter environment, you will need to call `experiment.end()` when finished to ensure all metrics and code are logged before exiting.\n",
      "COMET INFO: Experiment is live on comet.ml https://www.comet.ml/jessica-njuguna/tweet-sentiment-analysis/9cbee10a5339405d9d2ee24ac8de6e15\n",
      "\n"
     ]
    }
   ],
   "source": [
    "experiment = Experiment(api_key=\"MHehhbanm9HbbvXptMjQ0hinn\",\n",
    "    project_name=\"tweet-sentiment-analysis\",\n",
    "    workspace=\"jessica-njuguna\")"
   ]
  },
  {
   "cell_type": "markdown",
   "metadata": {},
   "source": [
    "# Climate Change Analysis Belief 2022\n",
    "© Explore Data Science Academy"
   ]
  },
  {
   "cell_type": "markdown",
   "metadata": {},
   "source": [
    "_Prepared by:_\n",
    "- Jessica Njuguna\n",
    "- Stanley Agbo\n",
    "- Uchenna Unigwe\n",
    "- Hunadi Mawela\n",
    "- Teddy Waweru"
   ]
  },
  {
   "cell_type": "markdown",
   "metadata": {},
   "source": [
    "## Introduction"
   ]
  },
  {
   "cell_type": "markdown",
   "metadata": {},
   "source": [
    "Living things are dependent on particular conditions to survive. Humans are not exempt from this. Having the right temperature, sufficient water, clean air, and enough food are among the basic requirements for survival. The majority of these requirements depend on the stability of climate change. Climate change refers to shifts in the weather and temperature patterns. Human activity and natural occurrences contribute to climate change.\n",
    "\n",
    "Since the 1800s, human cultures have been the main drivers of climate change. With increased deforestation, combustion of fossil fuels and increased livestock farming, the concentration of greenhouse gases has increased. These gases cause a greenhouse effect by trapping the sun's heat and escalating global warming.\n",
    "\n",
    "Warmer temperatures change weather patterns disrupting the natural conditions of the earth. These disruptions harm our environment, degrading the quality of the Earth's air and water. In a bid to cool the earth and reduce the rate of climate change, global organizations are campaigning for more environmentally friendly products and practices. "
   ]
  },
  {
   "cell_type": "markdown",
   "metadata": {},
   "source": [
    "### Problem Statement\n",
    "\n",
    "In the 21st Century, more companies build their brand with the consideration of **lessened environmental impact** or **carbon footprint**. Thus, their operations products and services are inclined to being more **environmentally friendly** and sustainable, in line with their values and ideals. <br>\n",
    "To improve market research on their products/services, we developed the folowing **ML project** that intends to determine how people **perceive climate change**, and _whether or not they believe it is a real threat_. <br>\n",
    "\n",
    "We believe this would provide a **metric** on how companies' products/service may be **received by the public**. Providing a robust ML solution will enable our clients to **access to a broad base of consumer sentiment**, spanning multiple demographic and geographic categories - thus **increasing their insights and informing future marketing strategies**.<br>\n",
    "\n",
    "To build our **predictive model** for the project, we utilized a dataset of **collected tweet data** to determine if a person believes in climate data or _not_.\n"
   ]
  },
  {
   "cell_type": "markdown",
   "metadata": {},
   "source": [
    "### Table of Contents\n",
    "\n",
    "[Introduction](#introduction)\n",
    "- Problem Statement\n",
    "- Table of Contents\n",
    "- Summary\n",
    "    - Agenda\n",
    "    - Deliverables\n",
    "    - Results\n",
    "    - Future Considerations\n",
    "- Preliminary Activities\n",
    "    - Importing Packages\n",
    "    - Loading the Datasets\n",
    "    \n",
    "[Exploratory Data Analysis](#exploratory_data_analysis)\n",
    "- Functions Declaration\n",
    "- Statistical Summaries\n",
    "    - Train Dataset\n",
    "    - Test Dataset\n",
    "- Visualizations\n",
    "\n",
    "[Data Engineering](#data_engineering)\n",
    "- Functions Declaration\n",
    "- Dealing with Null Values\n",
    "- Splitting features\n",
    "- Dummy Variables\n",
    "- Data Scaling\n",
    "- Feature Selection\n",
    "\n",
    "[Modelling](#modelling)\n",
    "- Functions Declaration\n",
    "- RandomForest Classification\n",
    "    - Introduction #\n",
    "    - Model Development\n",
    "    - Model Performance Metrics\n",
    "    - Test Dataset Prediction Metrics\n",
    "- XG Boost Classification\n",
    "    - Model Development\n",
    "    - Model Performance Metrics\n",
    "    - Test Dataset Prediction Metrics\n",
    "- Hyper Parameter Tuning\n",
    "\n",
    "[Model Performance Comparison](#model_performance_comparison)\n",
    "\n",
    "\n",
    "[Model Explanation](#model_explanation)\n",
    "\n",
    "[Conclusion](#conclusion)\n",
    "\n",
    "[Appendix](#appendix)\n",
    "- Kaggle Submission\n",
    "    - Functions Declaration\n",
    "    - Submission Metrics\n",
    "\n",
    "\n",
    "\n",
    "\n",
    "    \n",
    "\n",
    "\n",
    "\n",
    "\n"
   ]
  },
  {
   "cell_type": "markdown",
   "metadata": {},
   "source": [
    "### _Summary_\n",
    "\n",
    "**Agenda:**\n",
    "\n",
    "**Deliverables:**\n",
    "\n",
    "**Results:**\n",
    "\n",
    "**Future Considerations:**"
   ]
  },
  {
   "cell_type": "markdown",
   "metadata": {},
   "source": [
    "### Preliminary Activities"
   ]
  },
  {
   "cell_type": "markdown",
   "metadata": {},
   "source": [
    "#### Importing Packages"
   ]
  },
  {
   "cell_type": "code",
   "execution_count": 72,
   "metadata": {},
   "outputs": [],
   "source": [
    "# Libraries for data loading, data manipulation\n",
    "import pandas as pd\n",
    "import numpy as np\n",
    "\n",
    "#Libraries for Data visualization\n",
    "import matplotlib.pyplot as plt\n",
    "import seaborn as sns\n",
    "sns.set(font_scale = 1)\n",
    "from wordcloud import WordCloud\n",
    "from statsmodels.graphics.correlation import plot_corr\n",
    "\n",
    "#Libraries to clean the text\n",
    "import contractions #This expands contraction such as 'don't' to 'do not'\n",
    "import regex as re\n",
    "import string\n",
    "import nltk\n",
    "from nltk.tokenize import TreebankWordTokenizer\n",
    "from nltk.tokenize import TreebankWordTokenizer\n",
    "from nltk.stem import WordNetLemmatizer\n",
    "from nltk.corpus import stopwords\n",
    "from nltk import PorterStemmer\n",
    "from nltk import SnowballStemmer\n",
    "import emoji #allows us to manipulate with emojis\n",
    "import itertools\n",
    "\n",
    "\n",
    "#Libraries for test pre-processing\n",
    "from sklearn.feature_extraction.text import CountVectorizer\n",
    "from sklearn.feature_extraction.text import TfidfVectorizer\n",
    "from sklearn.feature_extraction.text import HashingVectorizer\n",
    "\n",
    "\n",
    "# Libraries for data preparation\n",
    "# import statsmodels.formula.api as sm\n",
    "# from statsmodels.formula.api import ols\n",
    "# from scipy.stats import pearsonr\n",
    "# from statsmodels.distributions.empirical_distribution import ECDF       #Imported for displaying the Empirical Cumulative Distribution of Features\n",
    "# from sklearn.feature_selection import SelectKBest, f_regression\n",
    "\n",
    "# Libraries for model building\n",
    "from sklearn.model_selection import train_test_split\n",
    "from sklearn.naive_bayes import BernoulliNB\n",
    "from sklearn.ensemble import AdaBoostClassifier\n",
    "# from sklearn.ensemble import RandomForestRegressor\n",
    "# from sklearn.tree import DecisionTreeRegressor\n",
    "\n",
    "#Libraries for Model Performance\n",
    "from sklearn.metrics import classification_report\n",
    "from sklearn.metrics import f1_score, precision_score, recall_score, confusion_matrix\n",
    "\n",
    "# from sklearn.metrics import mean_squared_error, r2_score\n",
    "# from sklearn.tree import plot_tree\n",
    "# from sklearn.model_selection import GridSearchCV\n",
    "\n",
    "# Libraries for mathematical analyses\n",
    "import numpy as np\n",
    "\n",
    "\n",
    "#Library for creating pickle files of the models\n",
    "import pickle\n",
    "\n",
    "# Setting global constants to ensure notebook results are reproducible\n",
    "# PARAMETER_CONSTANT = ###"
   ]
  },
  {
   "cell_type": "markdown",
   "metadata": {},
   "source": [
    "#### Loading the datasets"
   ]
  },
  {
   "cell_type": "code",
   "execution_count": 4,
   "metadata": {},
   "outputs": [],
   "source": [
    "#load the datasets in raw_df\n",
    "raw_train_df = pd.read_csv('resources/data/train.csv')\n",
    "raw_test_df = pd.read_csv('resources/data/test.csv')"
   ]
  },
  {
   "cell_type": "markdown",
   "metadata": {},
   "source": [
    "## Exploratory Data Analysis"
   ]
  },
  {
   "cell_type": "markdown",
   "metadata": {},
   "source": [
    "Exploratory Data Analysis(EDA) refers to investigating the data in its raw form to spot anomalies, discover patterns and check for assumptions using summary statistics. \n",
    "\n",
    "Preliminary checks of the EDA might include:\n",
    "\n",
    "1. Columns in the data\n",
    "2. Number of observations in the data\n",
    "3. Presence of missing values in the data\n",
    "4. Presence of duplicates\n",
    "5. Type of data in the columns; numerical(discrete, continuous), categorical or time\n",
    "6. Presence of outliers/uncommon observations\n",
    "\n",
    "The patterns existing in the dataset can be displayed using graphs and visuals. To outline the patterns, we look at:\n",
    "- Patterns in the individual columns (univariate analysis)\n",
    "- Patterns between columns (multivariate analysis)\n",
    "\n",
    "Analysis of the patterns allows us to test hypotheses that can give us insight into the topic the data covers. Going through the EDA process is necessary because it highlights the steps for preparing the data for prediction modelling."
   ]
  },
  {
   "cell_type": "markdown",
   "metadata": {},
   "source": [
    "### Functions Declaration"
   ]
  },
  {
   "cell_type": "markdown",
   "metadata": {},
   "source": [
    "This section defines functions that will be used for the EDA section."
   ]
  },
  {
   "cell_type": "code",
   "execution_count": 5,
   "metadata": {},
   "outputs": [],
   "source": [
    "### We declare the functions that we can call later within the project development\n",
    "\n",
    "#The function below takes a string and expands all contractions in the string\n"
   ]
  },
  {
   "cell_type": "markdown",
   "metadata": {},
   "source": [
    "### Statistical Summaries"
   ]
  },
  {
   "cell_type": "markdown",
   "metadata": {},
   "source": [
    "#A00\n",
    "\n",
    "Statistical Summaries are used to communicate information about large datasets by summarizing the set of observations. \n",
    "\n",
    "They can be measures of central tendancy (mean, mode), distribution (skewness and kurtosis) and relationship (correlation). The features of the dataset in this project is expected to be text data. Therefore, the summaries that will be covered are mode and mean. Mode refers to the most frequent object, in this case words. The anomalies covered are the null values and the duplicates."
   ]
  },
  {
   "cell_type": "markdown",
   "metadata": {},
   "source": [
    "#### Train Dataset"
   ]
  },
  {
   "cell_type": "markdown",
   "metadata": {},
   "source": [
    "We have loaded two datasets: train and test. This section explores the train dataframe. Thereafter, we will explore the test dataframe\n",
    "\n",
    "First, we make a copy of the train dataset. Any manipulations on the data frame does not have an effect on the raw train_df. "
   ]
  },
  {
   "cell_type": "code",
   "execution_count": 111,
   "metadata": {},
   "outputs": [],
   "source": [
    "#Set deep as True to copy both the indices and data of the df\n",
    "train_df = raw_train_df.copy(deep = True)"
   ]
  },
  {
   "cell_type": "markdown",
   "metadata": {},
   "source": [
    "Next, we view the first five columns of the dataset. This gives us an overview of the columns and a preview of the rows"
   ]
  },
  {
   "cell_type": "code",
   "execution_count": 7,
   "metadata": {},
   "outputs": [
    {
     "data": {
      "text/html": [
       "<div>\n",
       "<style scoped>\n",
       "    .dataframe tbody tr th:only-of-type {\n",
       "        vertical-align: middle;\n",
       "    }\n",
       "\n",
       "    .dataframe tbody tr th {\n",
       "        vertical-align: top;\n",
       "    }\n",
       "\n",
       "    .dataframe thead th {\n",
       "        text-align: right;\n",
       "    }\n",
       "</style>\n",
       "<table border=\"1\" class=\"dataframe\">\n",
       "  <thead>\n",
       "    <tr style=\"text-align: right;\">\n",
       "      <th></th>\n",
       "      <th>sentiment</th>\n",
       "      <th>message</th>\n",
       "      <th>tweetid</th>\n",
       "    </tr>\n",
       "  </thead>\n",
       "  <tbody>\n",
       "    <tr>\n",
       "      <th>0</th>\n",
       "      <td>1</td>\n",
       "      <td>PolySciMajor EPA chief doesn't think carbon di...</td>\n",
       "      <td>625221</td>\n",
       "    </tr>\n",
       "    <tr>\n",
       "      <th>1</th>\n",
       "      <td>1</td>\n",
       "      <td>It's not like we lack evidence of anthropogeni...</td>\n",
       "      <td>126103</td>\n",
       "    </tr>\n",
       "    <tr>\n",
       "      <th>2</th>\n",
       "      <td>2</td>\n",
       "      <td>RT @RawStory: Researchers say we have three ye...</td>\n",
       "      <td>698562</td>\n",
       "    </tr>\n",
       "    <tr>\n",
       "      <th>3</th>\n",
       "      <td>1</td>\n",
       "      <td>#TodayinMaker# WIRED : 2016 was a pivotal year...</td>\n",
       "      <td>573736</td>\n",
       "    </tr>\n",
       "    <tr>\n",
       "      <th>4</th>\n",
       "      <td>1</td>\n",
       "      <td>RT @SoyNovioDeTodas: It's 2016, and a racist, ...</td>\n",
       "      <td>466954</td>\n",
       "    </tr>\n",
       "  </tbody>\n",
       "</table>\n",
       "</div>"
      ],
      "text/plain": [
       "   sentiment                                            message  tweetid\n",
       "0          1  PolySciMajor EPA chief doesn't think carbon di...   625221\n",
       "1          1  It's not like we lack evidence of anthropogeni...   126103\n",
       "2          2  RT @RawStory: Researchers say we have three ye...   698562\n",
       "3          1  #TodayinMaker# WIRED : 2016 was a pivotal year...   573736\n",
       "4          1  RT @SoyNovioDeTodas: It's 2016, and a racist, ...   466954"
      ]
     },
     "execution_count": 7,
     "metadata": {},
     "output_type": "execute_result"
    }
   ],
   "source": [
    "train_df.head()"
   ]
  },
  {
   "cell_type": "markdown",
   "metadata": {},
   "source": [
    "From the first five rows we see that the train df contains three columns containing the tweet in the message column, the sentiment in numerical figures and the tweetid.\n",
    "\n",
    "Sometimes, data is inappriately stored and can cause issues when performing analysis. Therefore, we check the data type of the columns using .info "
   ]
  },
  {
   "cell_type": "code",
   "execution_count": 8,
   "metadata": {},
   "outputs": [
    {
     "name": "stdout",
     "output_type": "stream",
     "text": [
      "<class 'pandas.core.frame.DataFrame'>\n",
      "RangeIndex: 15819 entries, 0 to 15818\n",
      "Data columns (total 3 columns):\n",
      " #   Column     Non-Null Count  Dtype \n",
      "---  ------     --------------  ----- \n",
      " 0   sentiment  15819 non-null  int64 \n",
      " 1   message    15819 non-null  object\n",
      " 2   tweetid    15819 non-null  int64 \n",
      "dtypes: int64(2), object(1)\n",
      "memory usage: 370.9+ KB\n"
     ]
    }
   ],
   "source": [
    "train_df.info()"
   ]
  },
  {
   "cell_type": "markdown",
   "metadata": {},
   "source": [
    "The sentiment and tweetid column are stored as integers and the message is stored as string. These data types match the contents in the column. \n",
    "\n",
    "Given that the message is as string, we will have to convert it to numerical format in the feature engineering section. This will be done using vectorization. Vectorization takes the words in the columns and assigns them a numerical figure based on calculations on its frequency in the column.\n",
    "\n",
    "Next, we inspect the number of observations in the dataframe. This allows us to see how many values we will be working with in the modelling phase."
   ]
  },
  {
   "cell_type": "code",
   "execution_count": 9,
   "metadata": {},
   "outputs": [
    {
     "data": {
      "text/plain": [
       "(15819, 3)"
      ]
     },
     "execution_count": 9,
     "metadata": {},
     "output_type": "execute_result"
    }
   ],
   "source": [
    "train_df.shape"
   ]
  },
  {
   "cell_type": "markdown",
   "metadata": {},
   "source": [
    "The dataset contains 15,819 observations. Observations above 30 are considered as best practice for modelling."
   ]
  },
  {
   "cell_type": "markdown",
   "metadata": {},
   "source": [
    "Now that we have general information about the dataset, we look at our target variable. \n",
    "\n",
    "The sentiments are our target variable, using value_counts we see the different categories of sentiments and their corresponding number of observations and visualize with a bar graph"
   ]
  },
  {
   "cell_type": "code",
   "execution_count": 10,
   "metadata": {},
   "outputs": [
    {
     "data": {
      "text/plain": [
       " 1    8530\n",
       " 2    3640\n",
       " 0    2353\n",
       "-1    1296\n",
       "Name: sentiment, dtype: int64"
      ]
     },
     "execution_count": 10,
     "metadata": {},
     "output_type": "execute_result"
    }
   ],
   "source": [
    "train_df['sentiment'].value_counts()"
   ]
  },
  {
   "cell_type": "code",
   "execution_count": 11,
   "metadata": {},
   "outputs": [
    {
     "data": {
      "text/plain": [
       "<AxesSubplot:title={'center':'Sentiment Distribution'}>"
      ]
     },
     "execution_count": 11,
     "metadata": {},
     "output_type": "execute_result"
    },
    {
     "data": {
      "image/png": "[encoded data removed]",
      "text/plain": [
       "<Figure size 432x288 with 1 Axes>"
      ]
     },
     "metadata": {},
     "output_type": "display_data"
    }
   ],
   "source": [
    "#Move up to imbalanced\n",
    "\n",
    "train_df['sentiment'].value_counts(ascending = True).plot(kind = 'bar', title = 'Sentiment Distribution')"
   ]
  },
  {
   "cell_type": "markdown",
   "metadata": {},
   "source": [
    "As seen above, the sentiment column has four unique integers. From our variable description, we derive the following meanings for each category:\n",
    "- 2 News: the tweet links to factual news about climate change\n",
    "- 1 Pro: the tweet supports the belief of man-made climate change\n",
    "- 0 Neutral: the tweet neither supports nor refutes the belief of man-made climate change\n",
    "- -1 Anti: the tweet does not believe in man-made climate change\n",
    "\n",
    "From the cell above, we see that Pro sentiments are the highest in the dataset with 8,530 observations. The Anti The sentiments are lowest with 1,296 obseravations. \n",
    "\n",
    "Therefore, our data has more information about Pro sentiments than it does about Anti sentiments. This is a representation gap that is reffered to as _imbalanced dataset_. Due to the insufficient information we have about the lower frequency sentiments,  the learning capability of our model is compromised.\n",
    "\n",
    "In the feature engineering section, we will fix this by randomly selecting examples from the minority sentiments and adding them to the dataframe with replacement.\n"
   ]
  },
  {
   "cell_type": "markdown",
   "metadata": {},
   "source": [
    "##### Duplicates\n",
    "\n",
    "Incorrect duplicates affect the learning capability of the model. It is an anomally that gives conflicting information to the model. For this reason, we check for incorrect duplicates in the data to remove them in the Feature Engineering section. We are only concerned with the incorrect duplicates because we have a imbalanced dataset as highlighted above. The correct duplicates will remain in the dataset.\n",
    "\n",
    "For this classification problem, each unique observation should have its own sentiment. That is, one tweet can not have two sentiments. Failure to which, the observation will be dropped.\n",
    "\n",
    "We first check if there are duplicates in the tweet_id column using .unique()\n"
   ]
  },
  {
   "cell_type": "code",
   "execution_count": 12,
   "metadata": {},
   "outputs": [
    {
     "data": {
      "text/plain": [
       "15819"
      ]
     },
     "execution_count": 12,
     "metadata": {},
     "output_type": "execute_result"
    }
   ],
   "source": [
    "#Inspecting the tweetid column\n",
    "len(train_df['tweetid'].unique())"
   ]
  },
  {
   "cell_type": "markdown",
   "metadata": {},
   "source": [
    "The unique values of the tweetid column are equal to the number of observations in the dataset. Therefore, they are unique identifies to the tweets and there are no duplicate values.\n",
    "\n",
    "We can now check if all the tweets are unique."
   ]
  },
  {
   "cell_type": "code",
   "execution_count": 13,
   "metadata": {},
   "outputs": [
    {
     "data": {
      "text/plain": [
       "14229"
      ]
     },
     "execution_count": 13,
     "metadata": {},
     "output_type": "execute_result"
    }
   ],
   "source": [
    "#Checking the number of unique values\n",
    "\n",
    "len(train_df['message'].unique())"
   ]
  },
  {
   "cell_type": "markdown",
   "metadata": {},
   "source": [
    "There are 14,229 unique tweets which is less than the number of rows in the dataset. This is an indication of duplicated tweets in the dataset.\n",
    "\n",
    "We get the exact number of duplicates in the message column by checking the shape of duplicated messages."
   ]
  },
  {
   "cell_type": "code",
   "execution_count": 14,
   "metadata": {},
   "outputs": [
    {
     "data": {
      "text/plain": [
       " 1    1308\n",
       " 0     109\n",
       " 2      98\n",
       "-1      75\n",
       "Name: sentiment, dtype: int64"
      ]
     },
     "execution_count": 14,
     "metadata": {},
     "output_type": "execute_result"
    }
   ],
   "source": [
    "dupli = train_df[train_df.duplicated(['message'])]\n",
    "dupli['sentiment'].value_counts()"
   ]
  },
  {
   "cell_type": "code",
   "execution_count": 15,
   "metadata": {},
   "outputs": [
    {
     "data": {
      "text/plain": [
       "<AxesSubplot:title={'center':'Sentiment Distribution'}>"
      ]
     },
     "execution_count": 15,
     "metadata": {},
     "output_type": "execute_result"
    },
    {
     "data": {
      "image/png": "[encoded data removed]",
      "text/plain": [
       "<Figure size 432x288 with 1 Axes>"
      ]
     },
     "metadata": {},
     "output_type": "display_data"
    }
   ],
   "source": [
    "dupli['sentiment'].value_counts(ascending = True).plot(kind = 'bar', title = 'Sentiment Distribution')"
   ]
  },
  {
   "cell_type": "markdown",
   "metadata": {},
   "source": [
    "The Pro sentiments have the highest number of duplicates and also the highest number of observations in the dataset. To assist with imbalancing, the duplicates for the Pro sentiments in the Feature Engineering section."
   ]
  },
  {
   "cell_type": "markdown",
   "metadata": {},
   "source": [
    "The duplicated tweets are 1,590. This is quite a number.\n",
    "We are only interested in the tweets are similar but have been classified opposing each other. We check this by grouping the tweets and counting the unique sentiments of the grouped tweet. If a tweet has more than one unique sentiment, we conclude that it is an incorrect duplicate"
   ]
  },
  {
   "cell_type": "code",
   "execution_count": 16,
   "metadata": {},
   "outputs": [
    {
     "name": "stdout",
     "output_type": "stream",
     "text": [
      "       sentiment                                            message  tweetid\n",
      "258           -1  RT @Uniocracy: They'll tell you theyre doing i...   529327\n",
      "2390           2  RT @Channel4News: .@LeoDiCaprio calls on citiz...   460524\n",
      "5393           0  RT @Uniocracy: They'll tell you theyre doing i...   723133\n",
      "8446           0  RT @realDonaldTrump: Where the hell is global ...   228082\n",
      "9141           0  RT @COP22: In 4 days the most ambitious climat...   407156\n",
      "10351          1  RT @Channel4News: .@LeoDiCaprio calls on citiz...    93815\n",
      "12001         -1  RT @realDonaldTrump: Where the hell is global ...   663534\n",
      "14103          1  RT @COP22: In 4 days the most ambitious climat...   357058\n",
      "Review 1:\n",
      " RT @Uniocracy: They'll tell you theyre doing it to save you from global warming. Theyre lying https://t.co/PRFpiM7pyj #OpChemtrails\n",
      "Review 2:\n",
      " RT @Channel4News: .@LeoDiCaprio calls on citizens to vote for Ã¢â‚¬Å“people who believe in climate changeÃ¢â‚¬ï†; @realDonaldTrump has called itÃ¢â‚¬Â¦\n",
      "Review 3:\n",
      " RT @Uniocracy: They'll tell you theyre doing it to save you from global warming. Theyre lying https://t.co/PRFpiM7pyj #OpChemtrails\n",
      "Review 4:\n",
      " RT @realDonaldTrump: Where the hell is global warming when you need it?\n",
      "Review 5:\n",
      " RT @COP22: In 4 days the most ambitious climate change agreement in history enters into force. Have you read #ParisAgreement?Ã¢â‚¬Â¦\n",
      "Review 6:\n",
      " RT @Channel4News: .@LeoDiCaprio calls on citizens to vote for Ã¢â‚¬Å“people who believe in climate changeÃ¢â‚¬ï†; @realDonaldTrump has called itÃ¢â‚¬Â¦\n",
      "Review 7:\n",
      " RT @realDonaldTrump: Where the hell is global warming when you need it?\n",
      "Review 8:\n",
      " RT @COP22: In 4 days the most ambitious climate change agreement in history enters into force. Have you read #ParisAgreement?Ã¢â‚¬Â¦\n"
     ]
    }
   ],
   "source": [
    "duplicates = train_df.groupby('message').filter(lambda x: len(x['sentiment'].unique()) > 1)\n",
    "print(duplicates)\n",
    "for index,text in enumerate(duplicates['message']):\n",
    "    print('Review %d:\\n'%(index+1),text)\n",
    "\n"
   ]
  },
  {
   "cell_type": "markdown",
   "metadata": {},
   "source": [
    "Out of the duplicated observations, 8 of them are not equal in sentiment. These give us confilicting information about the relationship betweeen the tweet and the sentiment. These rows will be dropped in the feature engineering section. "
   ]
  },
  {
   "cell_type": "code",
   "execution_count": 17,
   "metadata": {},
   "outputs": [
    {
     "data": {
      "text/plain": [
       "sentiment    0\n",
       "message      0\n",
       "tweetid      0\n",
       "dtype: int64"
      ]
     },
     "execution_count": 17,
     "metadata": {},
     "output_type": "execute_result"
    }
   ],
   "source": [
    "train_df.isna().sum()"
   ]
  },
  {
   "cell_type": "markdown",
   "metadata": {},
   "source": [
    "There are no null values in the dataset"
   ]
  },
  {
   "cell_type": "code",
   "execution_count": 18,
   "metadata": {},
   "outputs": [
    {
     "name": "stdout",
     "output_type": "stream",
     "text": [
      "Review 1:\n",
      " @Jnp_Ftw are these the same scientists that denounce climate change? It's not a choice\n",
      "Review 2:\n",
      " RT @Honey17011: A guide to global warming, Paris pact and the US role #DemForce #TheResistance #UniteBlue https://t.co/RYiBLwAJZ4\n",
      "Review 3:\n",
      " RT @latimes: Atmospheric rivers fueled by climate change could decimate wild oysters in San Francisco Bay https://t.co/p0LZBhlU5K https://t…\n",
      "Review 4:\n",
      " Denying climate change ignores basic science\n",
      "Review 5:\n",
      " BGR ~ China practically says Trump lied about climate change https://t.co/Rz37HtcS8d\n"
     ]
    }
   ],
   "source": [
    "for index,text in enumerate(train_df['message'][30:35]):\n",
    "    print('Review %d:\\n'%(index+1),text)"
   ]
  },
  {
   "cell_type": "markdown",
   "metadata": {},
   "source": [
    "Sampling the tweets, we see that some contain url's, mentions, and hashtags. These would be cleaned to extract the parts of the tweet that direct us more toward the sentiment in the Feature Engineering section.\n",
    "\n",
    "Now let us explore the test dataset to inform of the necessary data cleaning concepts to perform."
   ]
  },
  {
   "cell_type": "markdown",
   "metadata": {},
   "source": [
    "#### Test Dataset"
   ]
  },
  {
   "cell_type": "markdown",
   "metadata": {},
   "source": [
    "Similar to the train dataset, we first create a copy"
   ]
  },
  {
   "cell_type": "code",
   "execution_count": 19,
   "metadata": {},
   "outputs": [],
   "source": [
    "test_df = raw_test_df.copy(deep = True)"
   ]
  },
  {
   "cell_type": "markdown",
   "metadata": {},
   "source": [
    "We view the first five rows in the dataset"
   ]
  },
  {
   "cell_type": "code",
   "execution_count": 20,
   "metadata": {},
   "outputs": [
    {
     "data": {
      "text/html": [
       "<div>\n",
       "<style scoped>\n",
       "    .dataframe tbody tr th:only-of-type {\n",
       "        vertical-align: middle;\n",
       "    }\n",
       "\n",
       "    .dataframe tbody tr th {\n",
       "        vertical-align: top;\n",
       "    }\n",
       "\n",
       "    .dataframe thead th {\n",
       "        text-align: right;\n",
       "    }\n",
       "</style>\n",
       "<table border=\"1\" class=\"dataframe\">\n",
       "  <thead>\n",
       "    <tr style=\"text-align: right;\">\n",
       "      <th></th>\n",
       "      <th>message</th>\n",
       "      <th>tweetid</th>\n",
       "    </tr>\n",
       "  </thead>\n",
       "  <tbody>\n",
       "    <tr>\n",
       "      <th>0</th>\n",
       "      <td>Europe will now be looking to China to make su...</td>\n",
       "      <td>169760</td>\n",
       "    </tr>\n",
       "    <tr>\n",
       "      <th>1</th>\n",
       "      <td>Combine this with the polling of staffers re c...</td>\n",
       "      <td>35326</td>\n",
       "    </tr>\n",
       "    <tr>\n",
       "      <th>2</th>\n",
       "      <td>The scary, unimpeachable evidence that climate...</td>\n",
       "      <td>224985</td>\n",
       "    </tr>\n",
       "    <tr>\n",
       "      <th>3</th>\n",
       "      <td>@Karoli @morgfair @OsborneInk @dailykos \\r\\nPu...</td>\n",
       "      <td>476263</td>\n",
       "    </tr>\n",
       "    <tr>\n",
       "      <th>4</th>\n",
       "      <td>RT @FakeWillMoore: 'Female orgasms cause globa...</td>\n",
       "      <td>872928</td>\n",
       "    </tr>\n",
       "  </tbody>\n",
       "</table>\n",
       "</div>"
      ],
      "text/plain": [
       "                                             message  tweetid\n",
       "0  Europe will now be looking to China to make su...   169760\n",
       "1  Combine this with the polling of staffers re c...    35326\n",
       "2  The scary, unimpeachable evidence that climate...   224985\n",
       "3  @Karoli @morgfair @OsborneInk @dailykos \\r\\nPu...   476263\n",
       "4  RT @FakeWillMoore: 'Female orgasms cause globa...   872928"
      ]
     },
     "execution_count": 20,
     "metadata": {},
     "output_type": "execute_result"
    }
   ],
   "source": [
    "test_df.head()"
   ]
  },
  {
   "cell_type": "markdown",
   "metadata": {},
   "source": [
    "Our test dataframe has two columns with the message and tweetid. The target variable, sentiment has been removed."
   ]
  },
  {
   "cell_type": "code",
   "execution_count": 21,
   "metadata": {},
   "outputs": [
    {
     "data": {
      "text/plain": [
       "(10546, 2)"
      ]
     },
     "execution_count": 21,
     "metadata": {},
     "output_type": "execute_result"
    }
   ],
   "source": [
    "test_df.shape"
   ]
  },
  {
   "cell_type": "markdown",
   "metadata": {},
   "source": [
    "The models will predict the sentiments of 10,546 tweets"
   ]
  },
  {
   "cell_type": "code",
   "execution_count": 22,
   "metadata": {},
   "outputs": [
    {
     "data": {
      "text/plain": [
       "message    0\n",
       "tweetid    0\n",
       "dtype: int64"
      ]
     },
     "execution_count": 22,
     "metadata": {},
     "output_type": "execute_result"
    }
   ],
   "source": [
    "test_df.isna().sum()"
   ]
  },
  {
   "cell_type": "markdown",
   "metadata": {},
   "source": [
    "There are no null values in the dataframe"
   ]
  },
  {
   "cell_type": "code",
   "execution_count": 23,
   "metadata": {},
   "outputs": [
    {
     "data": {
      "text/plain": [
       "10546"
      ]
     },
     "execution_count": 23,
     "metadata": {},
     "output_type": "execute_result"
    }
   ],
   "source": [
    "len(raw_test_df['tweetid'].unique())"
   ]
  },
  {
   "cell_type": "markdown",
   "metadata": {},
   "source": [
    "The tweet id acts as our unique identifier with no duplicates in the dataframe"
   ]
  },
  {
   "cell_type": "code",
   "execution_count": 24,
   "metadata": {},
   "outputs": [
    {
     "data": {
      "text/plain": [
       "9575"
      ]
     },
     "execution_count": 24,
     "metadata": {},
     "output_type": "execute_result"
    }
   ],
   "source": [
    "len(test_df['message'].unique())"
   ]
  },
  {
   "cell_type": "markdown",
   "metadata": {},
   "source": [
    "The message column has duplicates. The code below allows us to get the exact number of duplicates"
   ]
  },
  {
   "cell_type": "code",
   "execution_count": 25,
   "metadata": {},
   "outputs": [
    {
     "data": {
      "text/plain": [
       "(971, 2)"
      ]
     },
     "execution_count": 25,
     "metadata": {},
     "output_type": "execute_result"
    }
   ],
   "source": [
    "test_df[test_df.duplicated(['message'])].shape"
   ]
  },
  {
   "cell_type": "markdown",
   "metadata": {},
   "source": [
    "In the test dataframe, we have 971 duplicate tweets. During the model prediction, we will test out if the model predicts the same sentiment for the duplicated tweets. This will help us view the accuracy our model has"
   ]
  },
  {
   "cell_type": "code",
   "execution_count": 26,
   "metadata": {},
   "outputs": [
    {
     "name": "stdout",
     "output_type": "stream",
     "text": [
      "Review 1:\n",
      " How to green the world's deserts and reverse climate change | Allan Savory https://t.co/lYwtQN6ZlQ via @YouTube\n",
      "Review 2:\n",
      " RT @94kristin: let's talk climate change\n",
      "Review 3:\n",
      " RT @mymodernmet: Photographer @thevonwong raises awareness for victims of climate change with epic shoot on a bed of lavaÃ¢â‚¬Â¦\n",
      "Review 4:\n",
      " RT @SteveSGoddard: No matter how much Democrats scream and lie and protest and spread their hatred, the global warming scam will always be…\n",
      "Review 5:\n",
      " RT @TIME: An entire Canadian river vanished due to climate change, researchers say https://t.co/gS6h3j6c9g\n"
     ]
    }
   ],
   "source": [
    "for index,text in enumerate(raw_test_df['message'][30:35]):\n",
    "    print('Review %d:\\n'%(index+1),text)"
   ]
  },
  {
   "cell_type": "markdown",
   "metadata": {},
   "source": [
    "The tweets contain URL's and mentions. Before predicting, we will clean the data just as we have for the train data set"
   ]
  },
  {
   "cell_type": "markdown",
   "metadata": {},
   "source": [
    "## Data Engineering"
   ]
  },
  {
   "cell_type": "markdown",
   "metadata": {},
   "source": [
    "### Functions Declaration"
   ]
  },
  {
   "cell_type": "code",
   "execution_count": 27,
   "metadata": {},
   "outputs": [],
   "source": [
    "def expand_contractions(text):\n",
    "    #takes the text\n",
    "    expanded = contractions.fix(text)\n",
    "    #returns expanded text\n",
    "    return expanded\n",
    "\n",
    "# Function to drop links from text using regex to replace the link with a comma\n",
    "def strip_links(text):\n",
    "    #define the regex formula to find urls\n",
    "    link_regex = re.compile('((https?):((//)|(\\\\\\\\))+([\\w\\d:#@%/;$()~_?\\+-=\\\\\\.&](#!)?)*)', re.DOTALL)\n",
    "    #finds all the links in the text\n",
    "    links = re.findall(link_regex, text)\n",
    "    #iterates over all the links\n",
    "    for link in links:\n",
    "        #replace the link with a comma\n",
    "        text = text.replace(link[0], ', ')\n",
    "        #retuns the text without links\n",
    "    return text\n",
    "\n",
    "# Function to drop mentions from text\n",
    "def strip_mentions(text):\n",
    "    #Twitter mentions start with '@', we create a list with that character\n",
    "    strip_sign = ['@']\n",
    "    \n",
    "    #for separator in  string.punctuation:\n",
    "        #if separator not in strip_sign :\n",
    "            #text = text.replace(separator,' ')\n",
    "    # we create an empty list\n",
    "    words = []\n",
    "    #Iterate over each word in the text\n",
    "    for word in text.split():\n",
    "        #remove all leading spaces and trailing spaces in the word\n",
    "        word = word.strip()\n",
    "        if word:\n",
    "            #check if the first character of the word is not '@'\n",
    "            if word[0] not in strip_sign:\n",
    "                #if False it appends the word to the list words\n",
    "                words.append(word)\n",
    "    #returns the text as string with all mentions removed\n",
    "    return ' '.join(words)\n",
    "\n",
    "#Function to Lemmatize the words\n",
    "'''\n",
    "Lemmatization is the process of reducing a variation of a word to\n",
    "it's root word. For example; cooking to cook or adventurous to adventure\n",
    "'''\n",
    "#Create a function lemmatizer from WordNetLemmatizer\n",
    "lemmatizer = WordNetLemmatizer()\n",
    "def tweet_lemma(text, lemmatizer):\n",
    "    \n",
    "    #iterates over each word in the text and lemmatizes it\n",
    "    return [lemmatizer.lemmatize(t) for t in text]    \n",
    "\n",
    "#Function to remove stop_words\n",
    "def remove_stop_words(text):\n",
    "    #iterates over each word in the text\n",
    "    #appends only words that are not in the english stopwords list\n",
    "    return [t for t in text if t not in stopwords.words('english')]\n",
    "\n",
    "#Function to remove emojis\n",
    "def remove_emojis(text):\n",
    "    #iterates over each object in the text\n",
    "    #appends the objects that are not in the emoji list\n",
    "    return [t for t in text if t not in emoji.UNICODE_EMOJI]\n",
    "\n",
    "\n",
    "tfidf_vectorizer = TfidfVectorizer(stop_words = 'english')\n",
    "hashing_vectorizer = HashingVectorizer(n_features = 4000)\n",
    "count_vectorizer = CountVectorizer()"
   ]
  },
  {
   "cell_type": "markdown",
   "metadata": {},
   "source": [
    "#### Dropping duplicates"
   ]
  },
  {
   "cell_type": "markdown",
   "metadata": {},
   "source": [
    "In the EDA section, it was noted that the Pro sentiments had the highest duplicates. In the following cell, we drop the duplicates of the Pro sentiments to improve the balance of the data."
   ]
  },
  {
   "cell_type": "code",
   "execution_count": 28,
   "metadata": {},
   "outputs": [
    {
     "data": {
      "text/html": [
       "<div>\n",
       "<style scoped>\n",
       "    .dataframe tbody tr th:only-of-type {\n",
       "        vertical-align: middle;\n",
       "    }\n",
       "\n",
       "    .dataframe tbody tr th {\n",
       "        vertical-align: top;\n",
       "    }\n",
       "\n",
       "    .dataframe thead th {\n",
       "        text-align: right;\n",
       "    }\n",
       "</style>\n",
       "<table border=\"1\" class=\"dataframe\">\n",
       "  <thead>\n",
       "    <tr style=\"text-align: right;\">\n",
       "      <th></th>\n",
       "      <th>sentiment</th>\n",
       "      <th>message</th>\n",
       "      <th>tweetid</th>\n",
       "    </tr>\n",
       "  </thead>\n",
       "  <tbody>\n",
       "    <tr>\n",
       "      <th>9559</th>\n",
       "      <td>1</td>\n",
       "      <td>RT @1followernodad: parent: I'd do anything fo...</td>\n",
       "      <td>853233</td>\n",
       "    </tr>\n",
       "    <tr>\n",
       "      <th>11299</th>\n",
       "      <td>1</td>\n",
       "      <td>RT @1followernodad: parent: I'd do anything fo...</td>\n",
       "      <td>133976</td>\n",
       "    </tr>\n",
       "    <tr>\n",
       "      <th>12562</th>\n",
       "      <td>1</td>\n",
       "      <td>RT @1followernodad: parent: I'd do anything fo...</td>\n",
       "      <td>187199</td>\n",
       "    </tr>\n",
       "    <tr>\n",
       "      <th>15747</th>\n",
       "      <td>1</td>\n",
       "      <td>RT @1followernodad: parent: I'd do anything fo...</td>\n",
       "      <td>783223</td>\n",
       "    </tr>\n",
       "    <tr>\n",
       "      <th>11818</th>\n",
       "      <td>1</td>\n",
       "      <td>RT @1followernodad: parent: I'd do anything fo...</td>\n",
       "      <td>345949</td>\n",
       "    </tr>\n",
       "    <tr>\n",
       "      <th>...</th>\n",
       "      <td>...</td>\n",
       "      <td>...</td>\n",
       "      <td>...</td>\n",
       "    </tr>\n",
       "    <tr>\n",
       "      <th>7723</th>\n",
       "      <td>1</td>\n",
       "      <td>RT @savmontano: Our president doesn't believe ...</td>\n",
       "      <td>107394</td>\n",
       "    </tr>\n",
       "    <tr>\n",
       "      <th>5635</th>\n",
       "      <td>1</td>\n",
       "      <td>RT @savmontano: Our president doesn't believe ...</td>\n",
       "      <td>169280</td>\n",
       "    </tr>\n",
       "    <tr>\n",
       "      <th>10615</th>\n",
       "      <td>1</td>\n",
       "      <td>RT @voxdotcom: TrumpÃ¢â‚¬â„¢s election marks t...</td>\n",
       "      <td>396891</td>\n",
       "    </tr>\n",
       "    <tr>\n",
       "      <th>14128</th>\n",
       "      <td>1</td>\n",
       "      <td>RT @washingtonpost: 'Al Gore offers to work wi...</td>\n",
       "      <td>141082</td>\n",
       "    </tr>\n",
       "    <tr>\n",
       "      <th>6719</th>\n",
       "      <td>1</td>\n",
       "      <td>RT @yo: The state that will be most affected b...</td>\n",
       "      <td>581765</td>\n",
       "    </tr>\n",
       "  </tbody>\n",
       "</table>\n",
       "<p>1099 rows × 3 columns</p>\n",
       "</div>"
      ],
      "text/plain": [
       "       sentiment                                            message  tweetid\n",
       "9559           1  RT @1followernodad: parent: I'd do anything fo...   853233\n",
       "11299          1  RT @1followernodad: parent: I'd do anything fo...   133976\n",
       "12562          1  RT @1followernodad: parent: I'd do anything fo...   187199\n",
       "15747          1  RT @1followernodad: parent: I'd do anything fo...   783223\n",
       "11818          1  RT @1followernodad: parent: I'd do anything fo...   345949\n",
       "...          ...                                                ...      ...\n",
       "7723           1  RT @savmontano: Our president doesn't believe ...   107394\n",
       "5635           1  RT @savmontano: Our president doesn't believe ...   169280\n",
       "10615          1  RT @voxdotcom: TrumpÃ¢â‚¬â„¢s election marks t...   396891\n",
       "14128          1  RT @washingtonpost: 'Al Gore offers to work wi...   141082\n",
       "6719           1  RT @yo: The state that will be most affected b...   581765\n",
       "\n",
       "[1099 rows x 3 columns]"
      ]
     },
     "execution_count": 28,
     "metadata": {},
     "output_type": "execute_result"
    }
   ],
   "source": [
    "train_df_allduplicate = train_df[(train_df['sentiment'] == 1 )& (train_df.duplicated(['message']))]\n",
    "train_df_noduplicate = train_df_allduplicate.drop_duplicates('message', keep = 'first')\n",
    "train_df_discduplicate = train_df_allduplicate.drop(index = train_df_noduplicate.index)\n",
    "train_df = train_df.drop(index = train_df_discduplicate.index)\n",
    "train_df_discduplicate.sort_values('message')"
   ]
  },
  {
   "cell_type": "code",
   "execution_count": 29,
   "metadata": {},
   "outputs": [
    {
     "data": {
      "text/plain": [
       " 1    209\n",
       " 0    109\n",
       " 2     98\n",
       "-1     75\n",
       "Name: sentiment, dtype: int64"
      ]
     },
     "execution_count": 29,
     "metadata": {},
     "output_type": "execute_result"
    }
   ],
   "source": [
    "dupli = train_df[train_df.duplicated(['message'])]\n",
    "dupli['sentiment'].value_counts()\n",
    "#dupli[dupli['sentiment'] == 1].sort_values(by = 'message')\n",
    "#dupli[dupli['message'].str.contains('RT @AJEnglish')].sort_values(by = 'message')"
   ]
  },
  {
   "cell_type": "markdown",
   "metadata": {},
   "source": [
    "### Feature Extraction - In progress\n",
    "\n",
    "Method features for additional features and look at how it distributes with each sentiment. Plot per class.(use box plot) describe"
   ]
  },
  {
   "cell_type": "code",
   "execution_count": null,
   "metadata": {},
   "outputs": [],
   "source": []
  },
  {
   "cell_type": "markdown",
   "metadata": {},
   "source": [
    "_1. Tweet Length_ \n",
    "\n",
    "This is also referred to as the number of characters in the string"
   ]
  },
  {
   "cell_type": "code",
   "execution_count": 93,
   "metadata": {},
   "outputs": [
    {
     "data": {
      "text/plain": [
       "102.14710158669953"
      ]
     },
     "execution_count": 93,
     "metadata": {},
     "output_type": "execute_result"
    }
   ],
   "source": [
    "train_df['tweet_len'] = train_df['message'].astype(str).apply(len)\n",
    "train_df['tweet_len'].mean()"
   ]
  },
  {
   "cell_type": "markdown",
   "metadata": {},
   "source": [
    "_2. Number of sentences_"
   ]
  },
  {
   "cell_type": "code",
   "execution_count": 107,
   "metadata": {},
   "outputs": [
    {
     "data": {
      "text/plain": [
       "17.675579998735696"
      ]
     },
     "execution_count": 107,
     "metadata": {},
     "output_type": "execute_result"
    }
   ],
   "source": [
    "tokeniser = TreebankWordTokenizer()\n",
    "train_df['sent_count'] = train_df[\"message\"].apply(lambda x: len(tokeniser.tokenize(x)))\n",
    "train_df['sent_count'].mean()"
   ]
  },
  {
   "cell_type": "markdown",
   "metadata": {},
   "source": [
    "_2. Number of words per tweet_ - Unigwe"
   ]
  },
  {
   "cell_type": "code",
   "execution_count": 92,
   "metadata": {},
   "outputs": [
    {
     "data": {
      "text/plain": [
       "18.058916492825084"
      ]
     },
     "execution_count": 92,
     "metadata": {},
     "output_type": "execute_result"
    }
   ],
   "source": [
    "train_df['word_count'] = train_df[\"message\"].apply(lambda x: len(re.findall(r'\\w+', x)))\n",
    "train_df['word_count'].mean()"
   ]
  },
  {
   "cell_type": "markdown",
   "metadata": {},
   "source": [
    "_3. Number of unique words per tweet_ - Hunadi"
   ]
  },
  {
   "cell_type": "code",
   "execution_count": 122,
   "metadata": {},
   "outputs": [
    {
     "data": {
      "text/plain": [
       "17.092104431379987"
      ]
     },
     "execution_count": 122,
     "metadata": {},
     "output_type": "execute_result"
    }
   ],
   "source": [
    "train_df['num_unique'] = train_df[\"message\"].apply(lambda x: len(set(x.lower().split())))\n",
    "train_df['num_unique'].mean()"
   ]
  },
  {
   "cell_type": "markdown",
   "metadata": {},
   "source": [
    "_5. Number of stop words per tweet_ - Stanley"
   ]
  },
  {
   "cell_type": "code",
   "execution_count": 97,
   "metadata": {},
   "outputs": [],
   "source": [
    "stop_words = set(stopwords.words('english'))\n",
    "train_df['num_stop_words'] = train_df['message'].str.split().apply(lambda x: len(set(x) & stop_words))"
   ]
  },
  {
   "cell_type": "code",
   "execution_count": 98,
   "metadata": {},
   "outputs": [
    {
     "data": {
      "text/plain": [
       "4.967191352171439"
      ]
     },
     "execution_count": 98,
     "metadata": {},
     "output_type": "execute_result"
    }
   ],
   "source": [
    "train_df['num_stop_words'].mean()"
   ]
  },
  {
   "cell_type": "markdown",
   "metadata": {},
   "source": [
    "_6. Number of punctuations per tweet_ - Stanley"
   ]
  },
  {
   "cell_type": "code",
   "execution_count": 123,
   "metadata": {},
   "outputs": [
    {
     "data": {
      "text/plain": [
       "0    137\n",
       "1     63\n",
       "2    137\n",
       "3     98\n",
       "4    123\n",
       "Name: num_punctuations, dtype: int64"
      ]
     },
     "execution_count": 123,
     "metadata": {},
     "output_type": "execute_result"
    }
   ],
   "source": [
    "train_df['num_punctuations'] = train_df[\"message\"].apply(lambda x: len(re.findall(r'[!\"\\$%&\\'()*+,\\-.\\/:;=#@?\\[\\\\\\]^_`{|}~]*', \n",
    "                        x)))\n",
    "train_df['num_punctuations'].head()"
   ]
  },
  {
   "cell_type": "markdown",
   "metadata": {},
   "source": [
    "_7. Number of hashtags_"
   ]
  },
  {
   "cell_type": "code",
   "execution_count": 114,
   "metadata": {},
   "outputs": [
    {
     "data": {
      "text/plain": [
       "0    15780\n",
       "1       38\n",
       "2        1\n",
       "Name: num_hashtags, dtype: int64"
      ]
     },
     "execution_count": 114,
     "metadata": {},
     "output_type": "execute_result"
    }
   ],
   "source": [
    "train_df['num_hashtags'] = train_df[\"message\"].apply(lambda x: len(re.findall(r'(#w[A-Za-z0-9]*)', x)))\n",
    "train_df['num_hashtags'].value_counts()"
   ]
  },
  {
   "cell_type": "markdown",
   "metadata": {},
   "source": [
    "_8. Number of mentions_"
   ]
  },
  {
   "cell_type": "code",
   "execution_count": 115,
   "metadata": {},
   "outputs": [
    {
     "data": {
      "text/plain": [
       "0    15605\n",
       "1      214\n",
       "Name: num_mentions, dtype: int64"
      ]
     },
     "execution_count": 115,
     "metadata": {},
     "output_type": "execute_result"
    }
   ],
   "source": [
    "train_df['num_mentions'] = train_df[\"message\"].apply(lambda x: len(re.findall(r'(@w[A-Za-z0-9]*)', x)))\n",
    "train_df['num_mentions'].value_counts()"
   ]
  },
  {
   "cell_type": "markdown",
   "metadata": {},
   "source": [
    "_9. Number of words in UpperCase_"
   ]
  },
  {
   "cell_type": "code",
   "execution_count": 118,
   "metadata": {},
   "outputs": [
    {
     "data": {
      "text/plain": [
       "1.048296352487515"
      ]
     },
     "execution_count": 118,
     "metadata": {},
     "output_type": "execute_result"
    }
   ],
   "source": [
    "train_df['num_uppercase'] = train_df[\"message\"].apply(lambda x:sum(map(str.isupper,x.split())))\n",
    "train_df['num_uppercase'].mean()"
   ]
  },
  {
   "cell_type": "markdown",
   "metadata": {},
   "source": [
    "### Cleaning the text data - Done, Markdowns left"
   ]
  },
  {
   "cell_type": "markdown",
   "metadata": {},
   "source": [
    "Introductory paragraph\n",
    "\n",
    "Unstructured data is about 90% in different formats, describe the formats. The extra features are called noise. \n",
    "\n",
    "To further explore the data, we will clean the text by performing the following steps:\n",
    "\n",
    "1. Expand contractions\n",
    "2. Remove digits and words containing digits\n",
    "3. Lower the message\n",
    "4. Remove punctuation\n",
    "5. Stemming and Lemmetazition\n",
    "6. Vectorization\n",
    "\n",
    "The cleaned tweets will be stored in a new column 'cleaned_message' to manage errors"
   ]
  },
  {
   "cell_type": "markdown",
   "metadata": {},
   "source": [
    "_1. Spelling corrections_ - Jessica"
   ]
  },
  {
   "cell_type": "markdown",
   "metadata": {},
   "source": [
    "from spellchecker import SpellChecker\n",
    "train_df['message'] = train_df['message'].apply(lambda txt:SpellChecker().correction(txt))"
   ]
  },
  {
   "cell_type": "markdown",
   "metadata": {},
   "source": [
    "_2. Remove digits and words containing digits_"
   ]
  },
  {
   "cell_type": "code",
   "execution_count": 61,
   "metadata": {},
   "outputs": [
    {
     "data": {
      "text/plain": [
       "0    PolySciMajor EPA chief doesn't think carbon di...\n",
       "1    It's not like we lack evidence of anthropogeni...\n",
       "2    RT @RawStory: Researchers say we have three ye...\n",
       "3    #TodayinMaker# WIRED :  was a pivotal year in ...\n",
       "4    RT @SoyNovioDeTodas: It's , and a racist, sexi...\n",
       "Name: message, dtype: object"
      ]
     },
     "execution_count": 61,
     "metadata": {},
     "output_type": "execute_result"
    }
   ],
   "source": [
    "train_df['message']=train_df['message'].apply(lambda x: re.sub('\\w*\\d\\w*','', x))\n",
    "train_df['message'].head()"
   ]
  },
  {
   "cell_type": "markdown",
   "metadata": {},
   "source": [
    "_3. Expanding contractions_"
   ]
  },
  {
   "cell_type": "code",
   "execution_count": 62,
   "metadata": {},
   "outputs": [
    {
     "data": {
      "text/plain": [
       "0    PolySciMajor EPA chief does not think carbon d...\n",
       "1    It is not like we lack evidence of anthropogen...\n",
       "2    RT @RawStory: Researchers say we have three ye...\n",
       "3    #TodayinMaker# WIRED :  was a pivotal year in ...\n",
       "4    RT @SoyNovioDeTodas: It is , and a racist, sex...\n",
       "Name: message, dtype: object"
      ]
     },
     "execution_count": 62,
     "metadata": {},
     "output_type": "execute_result"
    }
   ],
   "source": [
    "train_df['message']=train_df['message'].apply(lambda x:expand_contractions(x))\n",
    "train_df['message'][0:5]"
   ]
  },
  {
   "cell_type": "markdown",
   "metadata": {},
   "source": [
    "_3. Lowercase all the tweets_"
   ]
  },
  {
   "cell_type": "code",
   "execution_count": 63,
   "metadata": {},
   "outputs": [
    {
     "data": {
      "text/plain": [
       "0    polyscimajor epa chief does not think carbon d...\n",
       "1    it is not like we lack evidence of anthropogen...\n",
       "2    rt @rawstory: researchers say we have three ye...\n",
       "3    #todayinmaker# wired :  was a pivotal year in ...\n",
       "4    rt @soynoviodetodas: it is , and a racist, sex...\n",
       "Name: message, dtype: object"
      ]
     },
     "execution_count": 63,
     "metadata": {},
     "output_type": "execute_result"
    }
   ],
   "source": [
    "train_df['message']=train_df['message'].apply(lambda x: x.lower())\n",
    "train_df['message'][0:5]"
   ]
  },
  {
   "cell_type": "markdown",
   "metadata": {},
   "source": [
    "_4. Removing punctuation_"
   ]
  },
  {
   "cell_type": "code",
   "execution_count": 65,
   "metadata": {},
   "outputs": [
    {
     "data": {
      "text/plain": [
       "0    polyscimajor epa chief does not think carbon d...\n",
       "1    it is not like we lack evidence of anthropogen...\n",
       "2    rt rawstory researchers say we have three year...\n",
       "3    todayinmaker wired   was a pivotal year in the...\n",
       "4    rt soynoviodetodas it is  and a racist sexist ...\n",
       "Name: message, dtype: object"
      ]
     },
     "execution_count": 65,
     "metadata": {},
     "output_type": "execute_result"
    }
   ],
   "source": [
    "train_df['message']=train_df['message'].apply(lambda x: re.sub('[%s]' % re.escape(string.punctuation), '', x))\n",
    "train_df['message'][0:5]"
   ]
  },
  {
   "cell_type": "markdown",
   "metadata": {},
   "source": [
    "_4. Stemming and Lemmatization_"
   ]
  },
  {
   "cell_type": "code",
   "execution_count": 66,
   "metadata": {},
   "outputs": [
    {
     "data": {
      "text/plain": [
       "0    polyscimajor epa chief doe not think carbon di...\n",
       "1    it is not like we lack evid of anthropogen glo...\n",
       "2    rt rawstori research say we have three year to...\n",
       "3    todayinmak wire wa a pivot year in the war on ...\n",
       "4    rt soynoviodetoda it is and a racist sexist cl...\n",
       "Name: message, dtype: object"
      ]
     },
     "execution_count": 66,
     "metadata": {},
     "output_type": "execute_result"
    }
   ],
   "source": [
    "tokeniser = TreebankWordTokenizer()\n",
    "lemmatizer = WordNetLemmatizer()\n",
    "snowball = SnowballStemmer('english')\n",
    "\n",
    "def stemmer(words):\n",
    "    token_words = TreebankWordTokenizer().tokenize(words)\n",
    "    stem_lem_sentence=[]\n",
    "    for word in token_words:\n",
    "        #just lemmmatize\n",
    "        stem_word = snowball.stem(word)\n",
    "        stem_lem_word = lemmatizer.lemmatize(stem_word)\n",
    "        stem_lem_sentence.append(snowball.stem(stem_lem_word))\n",
    "        stem_lem_sentence.append(\" \")\n",
    "    return \"\".join(stem_lem_sentence)\n",
    "\n",
    "train_df['message'] = train_df['message'].apply(stemmer) \n",
    "train_df['message'].head()\n"
   ]
  },
  {
   "cell_type": "markdown",
   "metadata": {},
   "source": [
    "_Splitting the data set_"
   ]
  },
  {
   "cell_type": "code",
   "execution_count": 73,
   "metadata": {},
   "outputs": [],
   "source": [
    "X_train, X_test, y_train, y_test = \\\n",
    "    train_test_split(train_df['message'],\n",
    "                        train_df['sentiment'],\n",
    "                        test_size=0.3,\n",
    "                        random_state=42)"
   ]
  },
  {
   "cell_type": "markdown",
   "metadata": {},
   "source": [
    "_Vectorizing the data set_"
   ]
  },
  {
   "cell_type": "code",
   "execution_count": 74,
   "metadata": {},
   "outputs": [
    {
     "name": "stdout",
     "output_type": "stream",
     "text": [
      "TF-IDF Vector Shape: \t 20481\n"
     ]
    }
   ],
   "source": [
    "text =train_df.message\n",
    "# text\n",
    "tfidf_vectorizer.fit(text)\n",
    "hashing_vectorizer.fit(text)\n",
    "count_vectorizer.fit(text)\n",
    "# # print(tfidf_vectorizer.vocabulary_)\n",
    "# print(tfidf_vectorizer.idf_)\n",
    "#hash_X_train = hashing_vectorizer.transform(X_train)\n",
    "#count_X_train = count_vectorizer.transform(X_train)\n",
    "tfidf_X_train = tfidf_vectorizer.transform(X_train)\n",
    "#hash_X_test= hashing_vectorizer.transform(X_test)\n",
    "#count_X_test = count_vectorizer.transform(X_test)\n",
    "tfidf_X_test = tfidf_vectorizer.transform(X_test)\n",
    "\n",
    "#print('Count Vector Shape: \\t {}'.format(len(count_vectorizer.get_feature_names_out())))\n",
    "print('TF-IDF Vector Shape: \\t {}'.format(len(tfidf_vectorizer.get_feature_names_out())))\n",
    "#print(len(X_train))\n",
    "# print(vector.toarray())"
   ]
  },
  {
   "cell_type": "code",
   "execution_count": 75,
   "metadata": {},
   "outputs": [],
   "source": [
    "from imblearn.over_sampling import SMOTE\n",
    "sm = SMOTE(random_state = 2)\n",
    "X_train_bal, y_train_bal = sm.fit_resample(tfidf_X_train, y_train)"
   ]
  },
  {
   "cell_type": "code",
   "execution_count": null,
   "metadata": {},
   "outputs": [],
   "source": [
    "#ype(tfidf_X_train)\n",
    "print(tfidf_vectorizer.vocabulary_)"
   ]
  },
  {
   "cell_type": "code",
   "execution_count": null,
   "metadata": {},
   "outputs": [],
   "source": [
    "len(tfidf_vectorizer.vocabulary_)"
   ]
  },
  {
   "cell_type": "code",
   "execution_count": null,
   "metadata": {},
   "outputs": [],
   "source": [
    "tfidf_X_train = tfidf_vectorizer.transform(X_train)"
   ]
  },
  {
   "cell_type": "markdown",
   "metadata": {},
   "source": [
    "#### Visualizing the Cleaned Text - In progress"
   ]
  },
  {
   "cell_type": "markdown",
   "metadata": {},
   "source": [
    "Let's group the data by sentiment"
   ]
  },
  {
   "cell_type": "code",
   "execution_count": null,
   "metadata": {},
   "outputs": [],
   "source": [
    "train_grouped=train_df[['sentiment','cleaned_message']].groupby('sentiment').agg(sum)"
   ]
  },
  {
   "cell_type": "code",
   "execution_count": null,
   "metadata": {},
   "outputs": [],
   "source": [
    "train_grouped"
   ]
  },
  {
   "cell_type": "code",
   "execution_count": null,
   "metadata": {},
   "outputs": [],
   "source": [
    "#Introduce wordclouds"
   ]
  },
  {
   "cell_type": "code",
   "execution_count": null,
   "metadata": {},
   "outputs": [],
   "source": [
    "stopwords = set([])\n",
    "stopwords.update([\"rt\", 'â', \"u\"])\n",
    "text = train_grouped.iloc[0,0]\n",
    "wordcloud = WordCloud(stopwords=stopwords, max_font_size=50, max_words=50, background_color=\"white\").generate_from_text(' '.join(text))\n",
    "plt.figure(figsize=(10,6), dpi=80)\n",
    "\n",
    "# Display the generated image:\n",
    "# the matplotlib way:\n",
    "plt.imshow(wordcloud, interpolation='bilinear')\n",
    "plt.title('Common words for Anti-Climate Change Sentiments', fontsize = 24, color = 'blue')\n",
    "plt.axis(\"off\")\n",
    "plt.show()"
   ]
  },
  {
   "cell_type": "code",
   "execution_count": null,
   "metadata": {},
   "outputs": [],
   "source": [
    "text = train_grouped.iloc[1,0]\n",
    "wordcloud = WordCloud(stopwords=stopwords,max_font_size=50, max_words=50, background_color=\"white\").generate_from_text(' '.join(text))\n",
    "\n",
    "# Display the generated image:\n",
    "# the matplotlib way:\n",
    "plt.figure(figsize=(10,6), dpi=80)\n",
    "plt.imshow(wordcloud, interpolation='bilinear')\n",
    "plt.title('Common words for Neutral Sentiments', fontsize = 24, color = 'blue')\n",
    "plt.axis(\"off\")\n",
    "plt.show()"
   ]
  },
  {
   "cell_type": "code",
   "execution_count": null,
   "metadata": {},
   "outputs": [],
   "source": [
    "text = train_grouped.iloc[2,0]\n",
    "wordcloud = WordCloud(stopwords=stopwords,max_font_size=50, max_words=50, background_color=\"white\").generate_from_text(' '.join(text))\n",
    "\n",
    "# Display the generated image:\n",
    "# the matplotlib way:\n",
    "plt.figure(figsize=(10,6), dpi=80)\n",
    "plt.imshow(wordcloud, interpolation='bilinear')\n",
    "plt.title('Common words for Pro-Climate Change Sentiments', fontsize = 24, color = 'blue')\n",
    "plt.axis(\"off\")\n",
    "plt.show()"
   ]
  },
  {
   "cell_type": "code",
   "execution_count": null,
   "metadata": {},
   "outputs": [],
   "source": [
    "text = train_grouped.iloc[3,0]\n",
    "wordcloud = WordCloud(stopwords=stopwords,max_font_size=50, max_words=50, background_color=\"black\").generate_from_text(' '.join(text))\n",
    "\n",
    "\n",
    "plt.figure(figsize=(10,6), dpi=80)\n",
    "plt.imshow(wordcloud, interpolation='bilinear')\n",
    "plt.axis(\"off\")\n",
    "plt.title('Common words for Factual Sentiments', fontsize = 24, color = 'blue')\n",
    "plt.show()"
   ]
  },
  {
   "cell_type": "markdown",
   "metadata": {},
   "source": [
    "### Feature Selection - In progress"
   ]
  },
  {
   "cell_type": "markdown",
   "metadata": {},
   "source": []
  },
  {
   "cell_type": "markdown",
   "metadata": {},
   "source": [
    "## Modelling - Stanley"
   ]
  },
  {
   "cell_type": "markdown",
   "metadata": {},
   "source": [
    "#### Function Declaration"
   ]
  },
  {
   "cell_type": "code",
   "execution_count": 76,
   "metadata": {},
   "outputs": [],
   "source": [
    "def fit_eval_model(model,X_train, X_test):\n",
    "    # fit the model\n",
    "    model.fit(X_train, y_train_bal)\n",
    "    # Predict values for Test dataset\n",
    "    y_pred = model.predict(X_test)\n",
    "    # Print the evaluation metrics for the dataset.\n",
    "    print(classification_report(y_test, y_pred))\n",
    "    # Compute and plot the Confusion matrix\n",
    "    cf_matrix = confusion_matrix(y_test, y_pred)\n",
    "    categories = ['Negative','Positive']\n",
    "    group_names = ['True Neg','False Pos', 'False Neg','True Pos']\n",
    "    group_percentages = ['{0:.2%}'.format(value) for value in cf_matrix.flatten() / np.sum(cf_matrix)]\n",
    "    labels = [f'{v1}' for v1 in group_percentages]\n",
    "    labels = np.asarray(labels).reshape(4,4)\n",
    "    # labels = [f'{v1}n{v2}' for v1, v2 in zip(group_names,group_percentages)]\n",
    "    # labels = np.asarray(labels).reshape(2,2)\n",
    "    print(labels)\n",
    "    print(group_percentages)\n",
    "    print(cf_matrix)\n",
    "    sns.heatmap(cf_matrix,\n",
    "                annot = labels,\n",
    "                cmap = 'Blues',fmt = '',\n",
    "                xticklabels = categories,\n",
    "                yticklabels = categories)\n",
    "    # plt.xlabel(\"Predicted values\", fontdict = {'size':14}, labelpad = 10)\n",
    "    # plt.ylabel(\"Actual values\" , fontdict = {'size':14}, labelpad = 10)\n",
    "    # plt.title (\"Confusion Matrix\", fontdict = {'size':18}, pad = 20)"
   ]
  },
  {
   "cell_type": "markdown",
   "metadata": {},
   "source": [
    "### Bernoulli Naive Bayes"
   ]
  },
  {
   "cell_type": "markdown",
   "metadata": {},
   "source": []
  },
  {
   "cell_type": "code",
   "execution_count": 71,
   "metadata": {},
   "outputs": [
    {
     "name": "stdout",
     "output_type": "stream",
     "text": [
      "              precision    recall  f1-score   support\n",
      "\n",
      "          -1       0.59      0.45      0.51       392\n",
      "           0       0.47      0.48      0.47       695\n",
      "           1       0.76      0.74      0.75      2540\n",
      "           2       0.68      0.78      0.73      1119\n",
      "\n",
      "    accuracy                           0.69      4746\n",
      "   macro avg       0.63      0.61      0.62      4746\n",
      "weighted avg       0.69      0.69      0.68      4746\n",
      "\n",
      "[['3.75%' '1.52%' '2.51%' '0.48%']\n",
      " ['0.44%' '7.00%' '5.96%' '1.24%']\n",
      " ['1.64%' '5.69%' '39.40%' '6.78%']\n",
      " ['0.53%' '0.82%' '3.83%' '18.39%']]\n",
      "['3.75%', '1.52%', '2.51%', '0.48%', '0.44%', '7.00%', '5.96%', '1.24%', '1.64%', '5.69%', '39.40%', '6.78%', '0.53%', '0.82%', '3.83%', '18.39%']\n",
      "[[ 178   72  119   23]\n",
      " [  21  332  283   59]\n",
      " [  78  270 1870  322]\n",
      " [  25   39  182  873]]\n"
     ]
    },
    {
     "data": {
      "image/png": "[encoded data removed]",
      "text/plain": [
       "<Figure size 432x288 with 2 Axes>"
      ]
     },
     "metadata": {},
     "output_type": "display_data"
    }
   ],
   "source": [
    "BNBModel = BernoulliNB()\n",
    "fit_eval_model(BNBModel, X_train_bal,tfidf_X_test)"
   ]
  },
  {
   "cell_type": "code",
   "execution_count": null,
   "metadata": {},
   "outputs": [],
   "source": [
    "BNB_comet = BernoulliNB()\n",
    "BNB_comet.fit(tfidf_X_train,y_train)\n",
    "y_pred = BNB_comet.predict(tfidf_X_test)"
   ]
  },
  {
   "cell_type": "code",
   "execution_count": null,
   "metadata": {},
   "outputs": [],
   "source": [
    "f1 = f1_score(y_test, y_pred, average = 'weighted')\n",
    "precision = precision_score(y_test, y_pred, average = 'weighted', zero_division = 1)\n",
    "recall = recall_score(y_test, y_pred, average = 'weighted')\n",
    "confusion = confusion_matrix(y_test, y_pred)\n",
    "confusion"
   ]
  },
  {
   "cell_type": "code",
   "execution_count": null,
   "metadata": {},
   "outputs": [],
   "source": [
    "params = {\"test_size\": 0.3,\n",
    "          \"model_type\": \"Bernoulli-Naive_Bayes\",\n",
    "          \"vectorizer\": \"tfidf vectorizer\",\n",
    "          \"param_grid\": \"None\" ,\n",
    "          \"stratify\": True\n",
    "          }\n",
    "metrics = {\"f1 score\": f1,\n",
    "           \"recall matrix\": recall,\n",
    "           \"precision matrix\": precision,\n",
    "           'confusion matrix': confusion\n",
    "           }"
   ]
  },
  {
   "cell_type": "code",
   "execution_count": null,
   "metadata": {},
   "outputs": [],
   "source": [
    "experiment.log_parameters(params)\n",
    "experiment.log_metrics(metrics)"
   ]
  },
  {
   "cell_type": "code",
   "execution_count": null,
   "metadata": {},
   "outputs": [],
   "source": [
    "experiment.end()"
   ]
  },
  {
   "cell_type": "markdown",
   "metadata": {},
   "source": [
    "#### Model Development"
   ]
  },
  {
   "cell_type": "code",
   "execution_count": null,
   "metadata": {},
   "outputs": [],
   "source": []
  },
  {
   "cell_type": "markdown",
   "metadata": {},
   "source": [
    "#### Model Performance Metrics"
   ]
  },
  {
   "cell_type": "code",
   "execution_count": null,
   "metadata": {},
   "outputs": [],
   "source": []
  },
  {
   "cell_type": "markdown",
   "metadata": {},
   "source": [
    "#### Test Dataset Prediction Metrics"
   ]
  },
  {
   "cell_type": "code",
   "execution_count": null,
   "metadata": {},
   "outputs": [],
   "source": []
  },
  {
   "cell_type": "markdown",
   "metadata": {},
   "source": [
    "### XG Boost Classification"
   ]
  },
  {
   "cell_type": "markdown",
   "metadata": {},
   "source": [
    "#### Model Development"
   ]
  },
  {
   "cell_type": "code",
   "execution_count": null,
   "metadata": {},
   "outputs": [],
   "source": []
  },
  {
   "cell_type": "markdown",
   "metadata": {},
   "source": [
    "#### Model Performance Metrics"
   ]
  },
  {
   "cell_type": "code",
   "execution_count": null,
   "metadata": {},
   "outputs": [],
   "source": []
  },
  {
   "cell_type": "markdown",
   "metadata": {},
   "source": [
    "#### Test Dataset Prediction Metrics"
   ]
  },
  {
   "cell_type": "code",
   "execution_count": null,
   "metadata": {},
   "outputs": [],
   "source": []
  },
  {
   "cell_type": "markdown",
   "metadata": {},
   "source": [
    "### Hyper Parameter Tuning"
   ]
  },
  {
   "cell_type": "code",
   "execution_count": null,
   "metadata": {},
   "outputs": [],
   "source": []
  },
  {
   "cell_type": "code",
   "execution_count": null,
   "metadata": {},
   "outputs": [],
   "source": []
  },
  {
   "cell_type": "markdown",
   "metadata": {},
   "source": [
    "## Model Performance Comparison"
   ]
  },
  {
   "cell_type": "markdown",
   "metadata": {},
   "source": [
    "### Functions Declaration"
   ]
  },
  {
   "cell_type": "code",
   "execution_count": null,
   "metadata": {},
   "outputs": [],
   "source": []
  },
  {
   "cell_type": "markdown",
   "metadata": {},
   "source": [
    "## Model Explanation"
   ]
  },
  {
   "cell_type": "markdown",
   "metadata": {},
   "source": []
  },
  {
   "cell_type": "markdown",
   "metadata": {},
   "source": [
    "## Conclusion"
   ]
  },
  {
   "cell_type": "markdown",
   "metadata": {},
   "source": []
  },
  {
   "cell_type": "markdown",
   "metadata": {},
   "source": []
  },
  {
   "cell_type": "markdown",
   "metadata": {},
   "source": [
    "## Appendix"
   ]
  },
  {
   "cell_type": "markdown",
   "metadata": {},
   "source": [
    "### Kaggle Submission"
   ]
  },
  {
   "cell_type": "markdown",
   "metadata": {},
   "source": [
    "#### Functions Declaration"
   ]
  },
  {
   "cell_type": "code",
   "execution_count": 124,
   "metadata": {},
   "outputs": [],
   "source": [
    "#feed in preprocessing\n",
    "#def preprocessing(df):\n",
    "    return df\n",
    "\n",
    "# def predict_model(model, df):\n",
    "#    transforms to a df     \n",
    "#     return predictions\n"
   ]
  },
  {
   "cell_type": "markdown",
   "metadata": {},
   "source": [
    "test_df['message'] = test_df['message'].apply(lambda txt:SpellChecker().correction(txt))"
   ]
  },
  {
   "cell_type": "code",
   "execution_count": 81,
   "metadata": {},
   "outputs": [],
   "source": [
    "test_df['message']=test_df['message'].apply(lambda x: re.sub('\\w*\\d\\w*','', x))\n",
    "test_df['message']=test_df['message'].apply(lambda x:expand_contractions(x))\n",
    "test_df['message']=test_df['message'].apply(lambda x: x.lower())\n",
    "test_df['message']=test_df['message'].apply(lambda x: re.sub('[%s]' % re.escape(string.punctuation), '', x))\n",
    "test_df['message'] = test_df['message'].apply(stemmer) "
   ]
  },
  {
   "cell_type": "code",
   "execution_count": 82,
   "metadata": {},
   "outputs": [],
   "source": [
    "test_tweets = test_df['message']"
   ]
  },
  {
   "cell_type": "code",
   "execution_count": 83,
   "metadata": {},
   "outputs": [],
   "source": [
    "tfidf_X_test = tfidf_vectorizer.transform(test_tweets)"
   ]
  },
  {
   "cell_type": "code",
   "execution_count": 84,
   "metadata": {},
   "outputs": [],
   "source": [
    "test_pred = BNBModel.predict(tfidf_X_test)"
   ]
  },
  {
   "cell_type": "markdown",
   "metadata": {},
   "source": [
    "#### Submission Metrics"
   ]
  },
  {
   "cell_type": "code",
   "execution_count": null,
   "metadata": {},
   "outputs": [],
   "source": [
    "#feed in model\n",
    "\n",
    "#def submission(model, df)"
   ]
  },
  {
   "cell_type": "code",
   "execution_count": 85,
   "metadata": {},
   "outputs": [],
   "source": [
    "###\n",
    "sub_id = test_df['tweetid'].to_list()\n",
    "sub_pred = test_pred.tolist()\n",
    "list_of_tuples = list(zip(sub_id, sub_pred))\n",
    "submission_df = pd.DataFrame(list_of_tuples,\n",
    "                  columns = ['tweetid', 'sentiment'])\n",
    "submission_df.set_index('tweetid', inplace=True)"
   ]
  },
  {
   "cell_type": "code",
   "execution_count": 86,
   "metadata": {},
   "outputs": [
    {
     "data": {
      "text/plain": [
       " 1    5336\n",
       " 2    2888\n",
       " 0    1571\n",
       "-1     751\n",
       "Name: sentiment, dtype: int64"
      ]
     },
     "execution_count": 86,
     "metadata": {},
     "output_type": "execute_result"
    }
   ],
   "source": [
    "submission_df['sentiment'].value_counts()"
   ]
  },
  {
   "cell_type": "markdown",
   "metadata": {},
   "source": [
    "submission_df.to_csv('280322_Cleaned_Vectorizer_Submission.csv') #score of 0.700"
   ]
  },
  {
   "cell_type": "markdown",
   "metadata": {},
   "source": [
    "submission_df.to_csv('290322_Lemmatized_stemmd_Vectorizer_Submission.csv') #score of 0.68"
   ]
  },
  {
   "cell_type": "code",
   "execution_count": null,
   "metadata": {},
   "outputs": [],
   "source": []
  }
 ],
 "metadata": {
  "interpreter": {
   "hash": "3725e8a8d1f2963f289da824bca102df5afc3c109908f193a09de07b132ed76c"
  },
  "kernelspec": {
   "display_name": "Python 3",
   "language": "python",
   "name": "python3"
  },
  "language_info": {
   "codemirror_mode": {
    "name": "ipython",
    "version": 3
   },
   "file_extension": ".py",
   "mimetype": "text/x-python",
   "name": "python",
   "nbconvert_exporter": "python",
   "pygments_lexer": "ipython3",
   "version": "3.8.8"
  }
 },
 "nbformat": 4,
 "nbformat_minor": 2
}
